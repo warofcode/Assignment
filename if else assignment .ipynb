{
 "cells": [
  {
   "cell_type": "markdown",
   "id": "df1f2f0f-5d07-4a8a-ba49-90276fbafe4e",
   "metadata": {},
   "source": [
    " Q1. Write a program to calculate the electricity bill\n",
    "using only if statement? (accept number of unit from user)\n",
    "according to the following criteria:\n",
    "\n",
    "Unit Price\n",
    "First 100 units no charge\n",
    "Next 100 units Rs 5 per unit\n",
    "After 200 units Rs 10 per unit\n",
    "(For example, if input unit is 350 than total bill amount is Rs2000). Lets explain...\n",
    "For first 100 no charges\n",
    "Now you have 250 unit remaining\n",
    "100-200 you need to pay – 100*5 = 500\n",
    "Now 200-100 you need to pay 150*10 = 1500\n",
    "Total = 500+1500 = 2000"
   ]
  },
  {
   "cell_type": "code",
   "execution_count": 10,
   "id": "7409c2ce-4bda-41e6-a70c-70d441303d41",
   "metadata": {},
   "outputs": [
    {
     "name": "stdin",
     "output_type": "stream",
     "text": [
      "enter your units  : 154\n"
     ]
    }
   ],
   "source": [
    "# Q1 .\n",
    "\n",
    "unit = int(input(\"enter your units :\"))\n",
    "if unit <100 and unit==100 :\n",
    "    print(\"no charge\")\n",
    "elif unit >100 and unit<200 and unit==200:\n",
    "    print(\"rs 5 per unit\",\"your bill =\",5*(unit-100))\n",
    "elif unit >200 :\n",
    "    print(\"rs 10 pert unit after crossing 200 units  \")\n",
    "    a = 5*100\n",
    "    b = unit-200 \n",
    "    c = b *10\n",
    "    print(\"your bill = \",a+c)\n",
    "    "
   ]
  },
  {
   "cell_type": "markdown",
   "id": "f96335e2-806c-41a5-847c-99f08384afc9",
   "metadata": {},
   "source": [
    "Q2. Write a program to accept percentage from the user and display\n",
    "the grade according to the following criteria:\n",
    "\n",
    "Marks Grade\n",
    "> 90 A\n",
    "> 80 and <= 90 B\n",
    ">= 60 and <= 80 C\n",
    "below 60 D\n",
    "\n"
   ]
  },
  {
   "cell_type": "code",
   "execution_count": 20,
   "id": "d028d1b2-dc68-443c-b983-d0655c2c56db",
   "metadata": {},
   "outputs": [
    {
     "name": "stdin",
     "output_type": "stream",
     "text": [
      "enter your score : 45666\n"
     ]
    }
   ],
   "source": [
    "# Q2 .\n",
    "\n",
    "marks = int(input(\"enter your score :\"))\n",
    "if marks >90 and marks <= 100:\n",
    "    print(\"your grade is A\")\n",
    "    if marks < 100 :\n",
    "        print(\"invalid output\")\n",
    "elif marks >80 and marks <= 90 :\n",
    "    print(\"your grade is B\")\n",
    "elif marks <=80 and marks >=60 :\n",
    "    print(\"your grade is C\")\n",
    "elif marks <60 :\n",
    "    print(\"your grade is D\")\n",
    "\n"
   ]
  },
  {
   "cell_type": "markdown",
   "id": "6fd9dd2b-1ee8-47aa-b2e0-6445052ba14c",
   "metadata": {},
   "source": [
    "Q3. Accept the age of 4 people and display the youngest one?"
   ]
  },
  {
   "cell_type": "code",
   "execution_count": 21,
   "id": "298ef145-c743-4cae-866c-5f9ead05bc7e",
   "metadata": {},
   "outputs": [
    {
     "name": "stdin",
     "output_type": "stream",
     "text": [
      "enter your age  5\n",
      "enter your age  5\n",
      "enter your age  5\n",
      "enter your age  46\n"
     ]
    },
    {
     "name": "stdout",
     "output_type": "stream",
     "text": [
      "youngest one is d  46\n"
     ]
    }
   ],
   "source": [
    "# Q3.\n",
    "\n",
    "a = int(input(\"enter your age \"))\n",
    "b = int(input(\"enter your age \"))\n",
    "c = int(input(\"enter your age \"))\n",
    "d = int(input(\"enter your age \"))\n",
    "\n",
    "if (a<b)and (a,c)and(a<d):\n",
    "    print(\"youngest one is a \",a)\n",
    "elif (b<a)and(b<c)and(b<d):\n",
    "    print(\"youngest one is b \",b)\n",
    "elif (c<a)and(c<b)and(c<d):\n",
    "    print(\"youngest one is c \",c)\n",
    "else :\n",
    "    print(\"youngest one is d \",d)\n",
    "    "
   ]
  },
  {
   "cell_type": "markdown",
   "id": "5adb99ce-fb7a-4c62-b641-71fea26bb057",
   "metadata": {},
   "source": [
    "Q4. A company decided to give bonus to employee\n",
    "according to following criteria:\n",
    "\n",
    "Time period of Service Bonus\n",
    "\n",
    "More than 10 years 10%\n",
    "\n",
    ">=6 and <=10 8%\n",
    "\n",
    "Less than 6 years 5%\n",
    "\n",
    "Ask user for their salary and years of service and print the\n",
    "net bonus amount?"
   ]
  },
  {
   "cell_type": "code",
   "execution_count": 21,
   "id": "a0ba3025-c3c9-421a-bde7-647c69a6d43f",
   "metadata": {},
   "outputs": [
    {
     "name": "stdin",
     "output_type": "stream",
     "text": [
      "enter your time period of service : 7\n"
     ]
    },
    {
     "name": "stdout",
     "output_type": "stream",
     "text": [
      "you won 8% discount\n"
     ]
    },
    {
     "name": "stdin",
     "output_type": "stream",
     "text": [
      "enter your salary : 50000\n"
     ]
    },
    {
     "name": "stdout",
     "output_type": "stream",
     "text": [
      "your salary =  54000.0\n"
     ]
    }
   ],
   "source": [
    "# Q4 .\n",
    "\n",
    "time_period = int(input(\"enter your time period of service :\"))\n",
    "\n",
    "if time_period >10 :\n",
    "    print(\"you won 10% dicount\")\n",
    "    salary = int(input(\"enter your salary :\"))\n",
    "    bonus = salary*(10/100)\n",
    "    bonus_salary = bonus + salary\n",
    "    print(\"your salary = \", bonus_salary)\n",
    "\n",
    "elif time_period >= 6 and time_period <=10:\n",
    "    print(\"you won 8% discount\")\n",
    "    salary = int(input(\"enter your salary :\"))\n",
    "    bonus = salary*(8/100)\n",
    "    bonus_salary = bonus + salary\n",
    "    print(\"your salary = \", bonus_salary)\n",
    "\n",
    "else :\n",
    "    print(\"you won 5% discount \")\n",
    "    salary = int(input(\"enter your salary :\"))\n",
    "    bonus = salary*(5/100)\n",
    "    bonus_salary = bonus + salary\n",
    "    print(\"your salary = \", bonus_salary)\n",
    "\n",
    "\n",
    "\n",
    "\n",
    "\n"
   ]
  },
  {
   "cell_type": "markdown",
   "id": "a05d1530-adc2-456c-88d1-c00235018823",
   "metadata": {},
   "source": [
    "Q5. Accept three numbers from the user and\n",
    "display the second largest number?"
   ]
  },
  {
   "cell_type": "code",
   "execution_count": 22,
   "id": "ccc73ce9-c8e1-4034-9967-ae62ee39e52a",
   "metadata": {},
   "outputs": [
    {
     "name": "stdin",
     "output_type": "stream",
     "text": [
      "enter your age  151\n",
      "enter your age  13\n",
      "enter your age  54\n"
     ]
    },
    {
     "name": "stdout",
     "output_type": "stream",
     "text": [
      "second largest is c  54\n"
     ]
    }
   ],
   "source": [
    "#Q5>\n",
    "\n",
    "a = int(input(\"enter your age \"))\n",
    "b = int(input(\"enter your age \"))\n",
    "c = int(input(\"enter your age \"))\n",
    "\n",
    "if ((a<b)and (a>c)) or ((a<c)and (a>b)):\n",
    "    print(\"second largest is a  \",a)\n",
    "elif ((b<a)and(b>c)) or ((b<c)and (b>a)):\n",
    "    print(\"second largest is b  \",b)\n",
    "elif ((c<a)and(c>b)) or ((c<b)and (c>a)):\n",
    "    print(\"second largest is c \",c)\n",
    "\n"
   ]
  },
  {
   "cell_type": "markdown",
   "id": "49e29ce5-089f-4399-9cb0-18d0ecb56da6",
   "metadata": {},
   "source": [
    "Q6. Accept the marked price from the user and calculate\n",
    "the Net amount as (Marked Price – Discount) to pay\n",
    "according to following criteria:\n",
    "\n",
    "Marked Price Discount\n",
    ">10000 20%\n",
    ">7000 and <=10000 15%\n",
    "<=7000 10%"
   ]
  },
  {
   "cell_type": "code",
   "execution_count": 23,
   "id": "c1c4cd84-59d9-4a4f-8a39-e3ab76345fca",
   "metadata": {},
   "outputs": [
    {
     "name": "stdin",
     "output_type": "stream",
     "text": [
      "enter market price : 50000\n"
     ]
    },
    {
     "name": "stdout",
     "output_type": "stream",
     "text": [
      "you got 20% discount \n",
      "you have to pay Rs. 40000.0\n"
     ]
    }
   ],
   "source": [
    "# Q6.\n",
    "\n",
    "price = int(input(\"enter market price :\"))\n",
    "\n",
    "if price >10000 :\n",
    "    print(\"you got 20% discount \")\n",
    "    a = price * (20/100)\n",
    "    b = price - a \n",
    "    print(\"you have to pay Rs.\",b)\n",
    "\n",
    "elif price >7000 and price <= 10000 :\n",
    "    print(\"you got 15% discount\")\n",
    "    a = price * (15/100)\n",
    "    b = price - a \n",
    "    print(\"you have to pay Rs.\",b)\n",
    "\n",
    "elif price <=7000 :\n",
    "    print(\"you got 10% discount\")\n",
    "    a = price * (10/100)\n",
    "    b = price - a \n",
    "    print(\"you have to pay Rs.\",b)\n",
    "\n",
    "\n",
    "\n",
    "    \n",
    "\n"
   ]
  },
  {
   "cell_type": "markdown",
   "id": "ba33ffe2-3ceb-46ca-a17a-3a92a80ccf6f",
   "metadata": {},
   "source": [
    "Q7. Accept the marks of English, Math and Science,\n",
    "Social Studies Subject and display the stream allotted\n",
    "according to following:\n",
    "\n",
    "All Subjects more than 80 marks — Science Stream\n",
    "\n",
    "English >80 and Math, Science above 50 — Commerce Stream\n",
    "\n",
    "English > 80 and social studies > 80 — Humanities"
   ]
  },
  {
   "cell_type": "code",
   "execution_count": 31,
   "id": "396af241-004b-4289-9da4-1350fd016b8c",
   "metadata": {
    "scrolled": true
   },
   "outputs": [
    {
     "name": "stdin",
     "output_type": "stream",
     "text": [
      "enter your maths score : 54\n",
      "enter your science score : 12\n",
      "enter your english score : 98\n",
      "enter your social studies score : 98\n"
     ]
    },
    {
     "name": "stdout",
     "output_type": "stream",
     "text": [
      "you can take arts stream\n"
     ]
    }
   ],
   "source": [
    "# Q7. \n",
    "\n",
    "a = int(input(\"enter your maths score :\"))\n",
    "b = int(input(\"enter your science score :\"))\n",
    "c = int(input(\"enter your english score :\"))\n",
    "e = int(input(\"enter your social studies score :\"))\n",
    "\n",
    "\n",
    "if (a>80) and (b>80) and (c>80) and (e>80):\n",
    "    print(\"you can take science stream\")\n",
    "\n",
    "if (c>80) and (a >50) and (b>50):\n",
    "    print(\"you can take commerce stream\")\n",
    "\n",
    "if (c>80) and (e>80):\n",
    "    print(\"you can take arts stream\")\n",
    "\n",
    "else :\n",
    "    print(\"no stream repeat 10th class \")\n",
    "\n",
    "\n",
    "\n",
    "\n"
   ]
  },
  {
   "cell_type": "markdown",
   "id": "10347411-c8d6-432c-9714-87ac9ad13b45",
   "metadata": {},
   "source": [
    "Q8. Write a program to display \"Hello\" if a number entered\n",
    "by user is a multiple of five, otherwise print \"Bye\"?"
   ]
  },
  {
   "cell_type": "code",
   "execution_count": 8,
   "id": "df04adca-f27a-4f22-9333-a20a0958f068",
   "metadata": {},
   "outputs": [
    {
     "name": "stdin",
     "output_type": "stream",
     "text": [
      "type any number :  55\n"
     ]
    },
    {
     "name": "stdout",
     "output_type": "stream",
     "text": [
      "hello\n"
     ]
    }
   ],
   "source": [
    "# Q8 .\n",
    "number_1 = int(input(\"type any number : \"))\n",
    "if (number_1)%5 == 0:\n",
    "    print(\"hello\")\n",
    "\n",
    "else :\n",
    "    print(\"bye\")\n"
   ]
  },
  {
   "cell_type": "markdown",
   "id": "d0d67416-35ef-40c5-af81-bbfbe915ed5a",
   "metadata": {},
   "source": [
    "Q9. Write a program to check whether the last digit of a number\n",
    "(entered by user) is divisible by 3 or not?"
   ]
  },
  {
   "cell_type": "code",
   "execution_count": 5,
   "id": "2fbca848-82b9-43a8-8ca3-b6a04fd1cd70",
   "metadata": {},
   "outputs": [
    {
     "name": "stdin",
     "output_type": "stream",
     "text": [
      "type any number : 66\n"
     ]
    },
    {
     "name": "stdout",
     "output_type": "stream",
     "text": [
      "yes its divisible by 3\n"
     ]
    }
   ],
   "source": [
    "# Q9 . \n",
    "\n",
    "num_1 = int(input(\"type any number :\"))\n",
    "\n",
    "last_digit = num_1%10\n",
    "if last_digit%3 == 0:\n",
    "    print(\"yes its divisible by 3\")\n",
    "\n",
    "else :\n",
    "    print(\"not divisible by 3 \")"
   ]
  },
  {
   "cell_type": "markdown",
   "id": "b7594252-3e09-4d43-8410-66c6d64492b8",
   "metadata": {},
   "source": [
    "Q10. Write a program to check whether a number entered\n",
    "is three-digit number or not?"
   ]
  },
  {
   "cell_type": "code",
   "execution_count": 7,
   "id": "24f04cdc-7981-46a9-8c0a-a084f35828ab",
   "metadata": {},
   "outputs": [
    {
     "name": "stdin",
     "output_type": "stream",
     "text": [
      "type any number : 5465698\n"
     ]
    },
    {
     "name": "stdout",
     "output_type": "stream",
     "text": [
      "invalid input\n"
     ]
    }
   ],
   "source": [
    "# Q10 . \n",
    "\n",
    "number = int(input(\"type any number :\"))\n",
    "\n",
    "if number >99 and number <1000 :\n",
    "    print(\"yes , it is three digit number \")\n",
    "\n",
    "else :\n",
    "    print(\"invalid input\")"
   ]
  }
 ],
 "metadata": {
  "kernelspec": {
   "display_name": "Python 3 (ipykernel)",
   "language": "python",
   "name": "python3"
  },
  "language_info": {
   "codemirror_mode": {
    "name": "ipython",
    "version": 3
   },
   "file_extension": ".py",
   "mimetype": "text/x-python",
   "name": "python",
   "nbconvert_exporter": "python",
   "pygments_lexer": "ipython3",
   "version": "3.11.7"
  }
 },
 "nbformat": 4,
 "nbformat_minor": 5
}
