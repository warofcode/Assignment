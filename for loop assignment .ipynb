{
 "cells": [
  {
   "cell_type": "markdown",
   "id": "f3cc3bc7-c904-412a-8254-17b7cc656677",
   "metadata": {},
   "source": [
    "Question 1: Write a Python program to print all the numbers from 1 to 10 using a for loop.\n"
   ]
  },
  {
   "cell_type": "code",
   "execution_count": 5,
   "id": "d3f056ef-2bb8-4ec4-8aec-a92599e3ed8a",
   "metadata": {
    "scrolled": true
   },
   "outputs": [
    {
     "name": "stdout",
     "output_type": "stream",
     "text": [
      "1\n",
      "2\n",
      "3\n",
      "4\n",
      "5\n",
      "6\n",
      "7\n",
      "8\n",
      "9\n",
      "10\n"
     ]
    }
   ],
   "source": [
    "for i in range(1,11):\n",
    "    print(i)"
   ]
  },
  {
   "cell_type": "markdown",
   "id": "54d240dd-1a8e-414f-b3a7-bdaab25bbd58",
   "metadata": {},
   "source": [
    "Question 2: Write a Python program to find the sum of all numbers from 1 to 100 using a for\n",
    "loop."
   ]
  },
  {
   "cell_type": "code",
   "execution_count": 2,
   "id": "913ab29d-bb78-4936-b03a-15fdb6efd8cd",
   "metadata": {},
   "outputs": [
    {
     "name": "stdout",
     "output_type": "stream",
     "text": [
      "the sum of the total numbers from 1 to 100 is:  5050\n"
     ]
    }
   ],
   "source": [
    "# Q2 . \n",
    "\n",
    "total_sum = 0 \n",
    "\n",
    "for number in range(1,101):\n",
    "    total_sum += number\n",
    "\n",
    "print(\"the sum of the total numbers from 1 to 100 is: \",total_sum)"
   ]
  },
  {
   "cell_type": "markdown",
   "id": "6ca2e6fa-4789-4d1d-9b71-aa40399a7243",
   "metadata": {},
   "source": [
    "Question 3: Write a Python program to print the multiplication table of a given number using a\n",
    "for loop."
   ]
  },
  {
   "cell_type": "code",
   "execution_count": 10,
   "id": "2c91614f-83ef-4b94-a8b9-93866c4b8774",
   "metadata": {},
   "outputs": [
    {
     "name": "stdin",
     "output_type": "stream",
     "text": [
      "give any number :  55\n"
     ]
    },
    {
     "name": "stdout",
     "output_type": "stream",
     "text": [
      "55 * 1 = 55\n",
      "55 * 2 = 110\n",
      "55 * 3 = 165\n",
      "55 * 4 = 220\n",
      "55 * 5 = 275\n",
      "55 * 6 = 330\n",
      "55 * 7 = 385\n",
      "55 * 8 = 440\n",
      "55 * 9 = 495\n",
      "55 * 10 = 550\n"
     ]
    }
   ],
   "source": [
    "# Q3. \n",
    "\n",
    "number = int(input(\"give any number : \"))\n",
    "\n",
    "for table in range(1,11):\n",
    "    a = table * number \n",
    "    print(number,\"*\",table,\"=\",a)\n",
    "    "
   ]
  },
  {
   "cell_type": "markdown",
   "id": "2663ea53-2dd6-4950-b5f1-33243c75ea23",
   "metadata": {},
   "source": [
    "Question 4: Write a Python program to count the number of even and odd numbers from a\n",
    "series of numbers using a for loop."
   ]
  },
  {
   "cell_type": "code",
   "execution_count": 23,
   "id": "00135bff-a64d-409f-b974-0dc1529f6cd1",
   "metadata": {},
   "outputs": [
    {
     "name": "stdin",
     "output_type": "stream",
     "text": [
      "write numbers serprated by spaces  54321\n"
     ]
    },
    {
     "name": "stdout",
     "output_type": "stream",
     "text": [
      "even numbers : 0\n",
      "odd numbers : 1\n"
     ]
    }
   ],
   "source": [
    "# Q4 .\n",
    "\n",
    "\n",
    "numbers = input(\"write numbers serprated by spaces \").split()\n",
    "\n",
    "numbers =[ int(number) for number in numbers ]\n",
    "\n",
    "even_number = 0\n",
    "odd_number = 0 \n",
    "\n",
    "\n",
    "for i in numbers:\n",
    "    if i % 2 == 0 :\n",
    "        even_number += 1 \n",
    "\n",
    "    else :\n",
    "        odd_number += 1 \n",
    "\n",
    "print(\"even numbers :\",even_number)\n",
    "print(\"odd numbers :\",odd_number)\n",
    "        \n",
    "    \n",
    "        "
   ]
  },
  {
   "cell_type": "markdown",
   "id": "44c21d6b-8d39-4794-9bcc-cc02fcc72620",
   "metadata": {},
   "source": [
    "Question 5: Write a Python program to find the factorial of a number using a for loop."
   ]
  },
  {
   "cell_type": "code",
   "execution_count": 30,
   "id": "7b67c67c-2c10-4e7d-be41-fb341ce43608",
   "metadata": {},
   "outputs": [
    {
     "name": "stdin",
     "output_type": "stream",
     "text": [
      "enter the number for factorial  5\n"
     ]
    },
    {
     "name": "stdout",
     "output_type": "stream",
     "text": [
      "factorial for the 5 is 120\n"
     ]
    }
   ],
   "source": [
    "\n",
    "number = int(input(\"enter the number for factorial \"))\n",
    "\n",
    "result = 1 \n",
    "\n",
    "if number < 0 :\n",
    "        print(\"factorial of negative numbers is not possible \")\n",
    "else :  \n",
    "       \n",
    "    for i in range(1, number +1 ):\n",
    "        result *= i\n",
    "\n",
    "print(f\"factorial for the {number} is {result}\")\n",
    "\n",
    " \n"
   ]
  },
  {
   "cell_type": "markdown",
   "id": "8beaa970-4e9a-493a-a563-2f307787bd79",
   "metadata": {},
   "source": [
    "Question 6: Write a Python program to print the Fibonacci sequence up to a specified number\n",
    "using a for loop."
   ]
  },
  {
   "cell_type": "code",
   "execution_count": 13,
   "id": "17f7df3f-fed6-4273-909a-f0fc0c522405",
   "metadata": {},
   "outputs": [
    {
     "name": "stdout",
     "output_type": "stream",
     "text": [
      "Fibonacci sequence up to 10 numbers: [0, 1, 1, 2, 3, 5, 8, 13, 21, 34]\n"
     ]
    }
   ],
   "source": [
    "n =10 \n",
    "\n",
    "a,b = 0,1 \n",
    "\n",
    "fibonacci_list = []\n",
    "\n",
    "for i in range(n):\n",
    "    fibonacci_list.append(a)\n",
    "    a,b = b, a + b \n",
    "\n",
    "print(f\"Fibonacci sequence up to {n} numbers: {fibonacci_list}\")"
   ]
  },
  {
   "cell_type": "code",
   "execution_count": null,
   "id": "b10ee210-fe31-4c99-b148-358be4348ce1",
   "metadata": {},
   "outputs": [],
   "source": []
  },
  {
   "cell_type": "markdown",
   "id": "52f915ee-8bd3-4fbb-a5ec-7cfba3055a6a",
   "metadata": {},
   "source": [
    "Question 7: Write a Python program to check if a given number is prime or not using a for loop."
   ]
  },
  {
   "cell_type": "code",
   "execution_count": 39,
   "id": "ec47fa19-921b-4cf7-a2c0-1ec3c44ca3b9",
   "metadata": {},
   "outputs": [
    {
     "name": "stdin",
     "output_type": "stream",
     "text": [
      "enter a number to check if it is prime or not : 17\n"
     ]
    },
    {
     "name": "stdout",
     "output_type": "stream",
     "text": [
      "17 is a prime number \n"
     ]
    }
   ],
   "source": [
    "\n",
    "\n",
    "number = int(input(\"enter a number to check if it is prime or not :\"))\n",
    "\n",
    "prime_number = True \n",
    "\n",
    "if number < 2 :\n",
    "    prime_number = False \n",
    "\n",
    "for i in range(2,int(number**0.5) +1):\n",
    "    if number % i == 0 :\n",
    "        prime_number = False\n",
    "        break\n",
    "        \n",
    "    \n",
    "\n",
    "\n",
    "if prime_number :\n",
    "    print(f\"{number} is a prime number \")\n",
    "\n",
    "else :\n",
    "    print(f\"{number} is not a prime number\" )\n",
    "\n",
    "\n"
   ]
  },
  {
   "cell_type": "markdown",
   "id": "3e55a2a0-eeb4-4f61-8524-315d4bd4c235",
   "metadata": {},
   "source": [
    "Question 8: Write a Python program to find the largest element in a list using a for loop."
   ]
  },
  {
   "cell_type": "code",
   "execution_count": 15,
   "id": "169a802e-c86f-4ed4-a0f3-33bd8a322307",
   "metadata": {},
   "outputs": [
    {
     "name": "stdin",
     "output_type": "stream",
     "text": [
      "give list by giving spaces  54 99 54\n"
     ]
    },
    {
     "name": "stdout",
     "output_type": "stream",
     "text": [
      "the largest elements in the list is : 99\n"
     ]
    }
   ],
   "source": [
    "numbers = input(\"give list by giving spaces \").split()\n",
    "\n",
    "numbers = [ int(number) for number in numbers ]\n",
    "\n",
    "if not number :\n",
    "    \n",
    "    largest_number = None \n",
    "else:\n",
    "    largest_number = number[0]\n",
    "\n",
    "for elements in number :\n",
    "    elements > largest_number\n",
    "    largest_number = elements \n",
    "\n",
    "print(\"the largest elements in the list is :\",largest_number )\n",
    "\n"
   ]
  },
  {
   "cell_type": "markdown",
   "id": "354a26f6-bbc8-4946-8fab-ee0502eabfb2",
   "metadata": {},
   "source": [
    "Question 9: Write a Python program to reverse a given string using a for loop."
   ]
  },
  {
   "cell_type": "code",
   "execution_count": null,
   "id": "1eb794a3-ae7b-4a0b-baaf-3c04365f8814",
   "metadata": {},
   "outputs": [],
   "source": [
    "string = \"rohit\"\n",
    "reverse_string = \"\"\n",
    "for char in range(1,6):   \n",
    "    reverse_string =  reverse_string + (string[-(char)]) \n",
    "\n",
    "reverse_string\n"
   ]
  },
  {
   "cell_type": "markdown",
   "id": "b7a55a8a-879b-4814-a0b0-8ca1f34fb518",
   "metadata": {},
   "source": [
    "Question 10: Write a Python program to find the common elements between two lists using a\n",
    "for loop.\n",
    "List1 = [1,2,3]\n",
    "List2 = [4,5,1]"
   ]
  },
  {
   "cell_type": "code",
   "execution_count": 7,
   "id": "e135b76f-8cbe-424e-a90c-e768d02be20d",
   "metadata": {},
   "outputs": [
    {
     "name": "stdout",
     "output_type": "stream",
     "text": [
      "common elements between list1 and list2 are [1]\n"
     ]
    }
   ],
   "source": [
    "# Q10. \n",
    "\n",
    "list1 = [1,2,3]\n",
    "list2 = [4,5,1]\n",
    "\n",
    "common_elements = []\n",
    "\n",
    "for char in list1:\n",
    "    if char in list2:\n",
    "        common_elements.append(char)\n",
    "\n",
    "\n",
    "print(f\"common elements between list1 and list2 are {common_elements}\")\n",
    "        "
   ]
  },
  {
   "cell_type": "code",
   "execution_count": null,
   "id": "0a27e8c3-17ae-4489-ae93-74add195dbdf",
   "metadata": {},
   "outputs": [],
   "source": []
  },
  {
   "cell_type": "code",
   "execution_count": null,
   "id": "e75b254e-1707-439a-a867-bd476b674372",
   "metadata": {},
   "outputs": [],
   "source": []
  },
  {
   "cell_type": "code",
   "execution_count": null,
   "id": "c3f4927f-0e43-465c-8190-eb909f8515bb",
   "metadata": {},
   "outputs": [],
   "source": []
  },
  {
   "cell_type": "code",
   "execution_count": null,
   "id": "827b818b-2841-4fff-9e65-cad85c545957",
   "metadata": {},
   "outputs": [],
   "source": []
  },
  {
   "cell_type": "code",
   "execution_count": null,
   "id": "efbc27f1-05fa-44d6-97ea-a8e5a8c3612f",
   "metadata": {},
   "outputs": [],
   "source": []
  },
  {
   "cell_type": "code",
   "execution_count": null,
   "id": "79e5baef-c769-4968-9a35-8ae0e77743d6",
   "metadata": {},
   "outputs": [],
   "source": []
  },
  {
   "cell_type": "code",
   "execution_count": null,
   "id": "3b7aada7-0bab-4c78-8701-47481890cf78",
   "metadata": {},
   "outputs": [],
   "source": []
  },
  {
   "cell_type": "code",
   "execution_count": null,
   "id": "922ab576-871e-41ff-8fc2-d4d4d7a8fc4c",
   "metadata": {},
   "outputs": [],
   "source": []
  },
  {
   "cell_type": "code",
   "execution_count": null,
   "id": "bd801917-9312-4b9a-a6a1-3509cdaa2f1f",
   "metadata": {},
   "outputs": [],
   "source": []
  },
  {
   "cell_type": "code",
   "execution_count": null,
   "id": "09018879-e621-4cea-a531-5f96cd81b8de",
   "metadata": {},
   "outputs": [],
   "source": []
  },
  {
   "cell_type": "code",
   "execution_count": null,
   "id": "c83de857-9d94-496b-bce4-27bd8973cc35",
   "metadata": {},
   "outputs": [],
   "source": []
  },
  {
   "cell_type": "code",
   "execution_count": null,
   "id": "a073db5e-a841-491b-9cae-ea0eb9e88ed3",
   "metadata": {},
   "outputs": [],
   "source": []
  },
  {
   "cell_type": "markdown",
   "id": "9e4b55ad-b935-4988-8474-5d8ea2c00271",
   "metadata": {},
   "source": [
    "Hollo werld"
   ]
  },
  {
   "cell_type": "code",
   "execution_count": null,
   "id": "f292b526-e7db-4f6e-9b89-33d337b56483",
   "metadata": {},
   "outputs": [],
   "source": []
  },
  {
   "cell_type": "code",
   "execution_count": null,
   "id": "b4c8e439-6df1-4802-8cd5-ffeff4b2a252",
   "metadata": {},
   "outputs": [],
   "source": []
  },
  {
   "cell_type": "code",
   "execution_count": null,
   "id": "d20cd65a-bdd9-49f7-9d4f-9e9f14576ea9",
   "metadata": {},
   "outputs": [],
   "source": []
  },
  {
   "cell_type": "code",
   "execution_count": null,
   "id": "41f8711a-39b4-4293-a9bb-ef76cc03c4d2",
   "metadata": {},
   "outputs": [],
   "source": []
  },
  {
   "cell_type": "code",
   "execution_count": null,
   "id": "3d034e35-11d5-4ec2-9c45-59ff2eeaa8e9",
   "metadata": {},
   "outputs": [],
   "source": []
  },
  {
   "cell_type": "code",
   "execution_count": null,
   "id": "36d985bc-a6e4-416a-b387-ef1228de7298",
   "metadata": {},
   "outputs": [],
   "source": []
  }
 ],
 "metadata": {
  "kernelspec": {
   "display_name": "Python 3 (ipykernel)",
   "language": "python",
   "name": "python3"
  },
  "language_info": {
   "codemirror_mode": {
    "name": "ipython",
    "version": 3
   },
   "file_extension": ".py",
   "mimetype": "text/x-python",
   "name": "python",
   "nbconvert_exporter": "python",
   "pygments_lexer": "ipython3",
   "version": "3.11.7"
  }
 },
 "nbformat": 4,
 "nbformat_minor": 5
}
