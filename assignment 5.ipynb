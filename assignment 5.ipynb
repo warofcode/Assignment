{
 "cells": [
  {
   "cell_type": "markdown",
   "id": "f9c2df49-e074-42d3-824b-7f58cb681b10",
   "metadata": {},
   "source": [
    "Q1 . What does an empty dictionary's code look like?"
   ]
  },
  {
   "cell_type": "code",
   "execution_count": 1,
   "id": "8a6fa08b-e4f0-4998-bb59-8ee4bdaa00b5",
   "metadata": {},
   "outputs": [
    {
     "data": {
      "text/plain": [
       "dict"
      ]
     },
     "execution_count": 1,
     "metadata": {},
     "output_type": "execute_result"
    }
   ],
   "source": [
    "# ans 1 . \n",
    "my_dict = {}\n",
    "type(my_dict)"
   ]
  },
  {
   "cell_type": "code",
   "execution_count": null,
   "id": "8541eb19-abdb-48b1-845e-3ba5be2e006f",
   "metadata": {},
   "outputs": [],
   "source": []
  },
  {
   "cell_type": "markdown",
   "id": "77911500-0794-4a5e-9033-ecf0b4882791",
   "metadata": {},
   "source": [
    "Q2 . What is the value of a dictionary value with the key 'foo' and the value 42?"
   ]
  },
  {
   "cell_type": "code",
   "execution_count": 8,
   "id": "fbc6b199-ba41-4c51-a1f9-df92465b0e17",
   "metadata": {},
   "outputs": [
    {
     "data": {
      "text/plain": [
       "42"
      ]
     },
     "execution_count": 8,
     "metadata": {},
     "output_type": "execute_result"
    }
   ],
   "source": [
    "# ans 2. \n",
    "my_dic2 = {'foo':42}\n",
    "my_dic2['foo']"
   ]
  },
  {
   "cell_type": "code",
   "execution_count": null,
   "id": "00349e80-2671-42df-8bc4-d10819958f9b",
   "metadata": {},
   "outputs": [],
   "source": []
  },
  {
   "cell_type": "markdown",
   "id": "6b41d944-df90-443d-bf9f-22a096ea437d",
   "metadata": {},
   "source": [
    "Q3 . What is the most significant distinction between a dictionary and a list?"
   ]
  },
  {
   "cell_type": "markdown",
   "id": "67772e8f-fbb4-4ba7-877d-2495858e21b8",
   "metadata": {},
   "source": [
    "ans 3. \n",
    "\n",
    "1. syntax:\n",
    "    list - list is created by using [].\n",
    "    dic - dictionary is created using {}.\n",
    "\n",
    "2. purpose :\n",
    "    list - list is used to store elements .\n",
    "    dic - dictionary is used to assign a value to a key .\n",
    "\n",
    "3. order \n",
    "    list - list is ordered collection .\n",
    "    dict - dictionary is ordered according to key value you can't call value with indexing ."
   ]
  },
  {
   "cell_type": "code",
   "execution_count": null,
   "id": "8b10b584-3442-4cda-bece-0cb8b1220ceb",
   "metadata": {},
   "outputs": [],
   "source": []
  },
  {
   "cell_type": "markdown",
   "id": "319abdfa-1f63-41c9-9454-51b8857081fc",
   "metadata": {},
   "source": [
    "Q4 .  What happens if you try to access spam['foo'] if spam is {'bar':100}"
   ]
  },
  {
   "cell_type": "code",
   "execution_count": 9,
   "id": "3076407d-f97d-4f49-9790-0af178965560",
   "metadata": {},
   "outputs": [
    {
     "ename": "KeyError",
     "evalue": "'foo'",
     "output_type": "error",
     "traceback": [
      "\u001b[1;31m---------------------------------------------------------------------------\u001b[0m",
      "\u001b[1;31mKeyError\u001b[0m                                  Traceback (most recent call last)",
      "Cell \u001b[1;32mIn[9], line 3\u001b[0m\n\u001b[0;32m      1\u001b[0m \u001b[38;5;66;03m# ans 4. \u001b[39;00m\n\u001b[0;32m      2\u001b[0m spam \u001b[38;5;241m=\u001b[39m {\u001b[38;5;124m'\u001b[39m\u001b[38;5;124mbar\u001b[39m\u001b[38;5;124m'\u001b[39m:\u001b[38;5;241m100\u001b[39m}\n\u001b[1;32m----> 3\u001b[0m spam[\u001b[38;5;124m'\u001b[39m\u001b[38;5;124mfoo\u001b[39m\u001b[38;5;124m'\u001b[39m]\n",
      "\u001b[1;31mKeyError\u001b[0m: 'foo'"
     ]
    }
   ],
   "source": [
    "# ans 4. \n",
    "spam = {'bar':100}\n",
    "spam['foo']\n",
    "#it will throw out a key error, as shown below ."
   ]
  },
  {
   "cell_type": "code",
   "execution_count": null,
   "id": "a1537b8f-17af-4b36-b15e-09c471363cdd",
   "metadata": {},
   "outputs": [],
   "source": []
  },
  {
   "cell_type": "markdown",
   "id": "208fc06a-2888-4cac-a713-070e5f6144de",
   "metadata": {},
   "source": [
    "Q5 . If a dictionary is stored in spam, what is the difference between the expressions 'cat' in spam and\n",
    "'cat' in spam.keys()?"
   ]
  },
  {
   "cell_type": "code",
   "execution_count": 11,
   "id": "80a5f73f-176b-4187-b5ad-c86a8aeb8fd2",
   "metadata": {},
   "outputs": [
    {
     "name": "stdout",
     "output_type": "stream",
     "text": [
      "True\n",
      "True\n"
     ]
    }
   ],
   "source": [
    "# ans 5. \n",
    " \n",
    "spam = {'cat': 42, 'dog': 24}\n",
    "print('cat' in spam)  \n",
    "\n",
    "spam = {'cat': 42, 'dog': 24}\n",
    "print('cat' in spam.keys())  \n"
   ]
  },
  {
   "cell_type": "code",
   "execution_count": null,
   "id": "e06e9438-45ce-4678-9d69-3fae86b3e018",
   "metadata": {},
   "outputs": [],
   "source": []
  },
  {
   "cell_type": "markdown",
   "id": "030df776-ab95-4d89-a69e-34edcab434e5",
   "metadata": {},
   "source": [
    "Q6 . What is a shortcut for the following code?\n",
    "if 'color' not in spam:\n",
    "spam['color'] = 'black'"
   ]
  },
  {
   "cell_type": "code",
   "execution_count": 17,
   "id": "b0cd20e7-f10e-41db-a236-1429240ac70e",
   "metadata": {},
   "outputs": [
    {
     "name": "stdout",
     "output_type": "stream",
     "text": [
      "{'cat': 42, 'dog': 24, 'color': 'black'}\n"
     ]
    }
   ],
   "source": [
    "# ans 6. \n",
    "if 'color' not in spam:\n",
    "    spam['color'] = 'black'\n",
    "print(spam)"
   ]
  },
  {
   "cell_type": "code",
   "execution_count": null,
   "id": "907079c3-6041-49b1-b534-aebce0f98d72",
   "metadata": {},
   "outputs": [],
   "source": []
  },
  {
   "cell_type": "markdown",
   "id": "7fe3c5b2-4dbd-4ca6-a1fc-f3839a09050d",
   "metadata": {},
   "source": [
    "Q7 . How do you \"pretty print\" dictionary values using which module and function?"
   ]
  },
  {
   "cell_type": "code",
   "execution_count": 18,
   "id": "576a66d7-6d4b-4c5f-9720-6737b2adcb45",
   "metadata": {},
   "outputs": [],
   "source": [
    "# ans 7 . \n",
    "\n",
    "import pprint"
   ]
  },
  {
   "cell_type": "code",
   "execution_count": 19,
   "id": "0ee5321a-8be9-4d59-8407-e516c5fc703a",
   "metadata": {},
   "outputs": [
    {
     "name": "stdout",
     "output_type": "stream",
     "text": [
      "{'address': {'city': 'delhi', 'street': '123 Main St', 'zip': '12345'},\n",
      " 'age': 18,\n",
      " 'hobbies': ['coding', 'hacking', ''],\n",
      " 'name': 'devansh'}\n"
     ]
    }
   ],
   "source": [
    "my_dict = {\n",
    "    'name': 'devansh',\n",
    "    'age': 18,\n",
    "    'hobbies': ['coding', 'hacking', ''],\n",
    "    'address': {\n",
    "        'street': '123 Main St',\n",
    "        'city': 'delhi',\n",
    "        'zip': '12345'\n",
    "    }\n",
    "}\n",
    "\n",
    "pprint.pprint(my_dict)\n"
   ]
  },
  {
   "cell_type": "code",
   "execution_count": null,
   "id": "c9d7dfb5-79f8-47cd-a93f-f0d652c5fb5d",
   "metadata": {},
   "outputs": [],
   "source": []
  }
 ],
 "metadata": {
  "kernelspec": {
   "display_name": "Python 3 (ipykernel)",
   "language": "python",
   "name": "python3"
  },
  "language_info": {
   "codemirror_mode": {
    "name": "ipython",
    "version": 3
   },
   "file_extension": ".py",
   "mimetype": "text/x-python",
   "name": "python",
   "nbconvert_exporter": "python",
   "pygments_lexer": "ipython3",
   "version": "3.11.7"
  }
 },
 "nbformat": 4,
 "nbformat_minor": 5
}
