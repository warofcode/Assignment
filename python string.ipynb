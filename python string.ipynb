{
 "cells": [
  {
   "cell_type": "code",
   "execution_count": 14,
   "id": "39e8e612-6248-4f27-9c63-ed863b3a585f",
   "metadata": {},
   "outputs": [
    {
     "name": "stdout",
     "output_type": "stream",
     "text": [
      "It's time to code\n"
     ]
    }
   ],
   "source": [
    "string = \"it's time to code\"\n",
    "print(string.capitalize())\n"
   ]
  },
  {
   "cell_type": "code",
   "execution_count": 15,
   "id": "3068ff43-9cb9-4e20-b8b2-ce49dafdd7db",
   "metadata": {},
   "outputs": [
    {
     "data": {
      "text/plain": [
       "'just practice '"
      ]
     },
     "execution_count": 15,
     "metadata": {},
     "output_type": "execute_result"
    }
   ],
   "source": [
    "string = \"JUST PRACTICE \"\n",
    "string.casefold()"
   ]
  },
  {
   "cell_type": "code",
   "execution_count": 16,
   "id": "a2f57b9e-5fd3-45c8-b38e-558acccfe80d",
   "metadata": {},
   "outputs": [
    {
     "data": {
      "text/plain": [
       "'$$$$$$$$$$$$$$$$$$$$$$$$$$$$$$$$$$$$$$$$$$$$$$$$$$$$$$$$$$$$$$$$$$$$JUST PRACTICE $$$$$$$$$$$$$$$$$$$$$$$$$$$$$$$$$$$$$$$$$$$$$$$$$$$$$$$$$$$$$$$$$$$$'"
      ]
     },
     "execution_count": 16,
     "metadata": {},
     "output_type": "execute_result"
    }
   ],
   "source": [
    "string.center(150,'$')"
   ]
  },
  {
   "cell_type": "code",
   "execution_count": 12,
   "id": "d493f873-f404-4e16-a2e9-ad7f44286338",
   "metadata": {},
   "outputs": [
    {
     "data": {
      "text/plain": [
       "'DEVANSH'"
      ]
     },
     "execution_count": 12,
     "metadata": {},
     "output_type": "execute_result"
    }
   ],
   "source": [
    "string = \"devansh\"\n",
    "string.upper()"
   ]
  },
  {
   "cell_type": "code",
   "execution_count": 13,
   "id": "1fc0d734-fc49-443a-b72b-88c6a771e6c4",
   "metadata": {},
   "outputs": [
    {
     "data": {
      "text/plain": [
       "'hello python '"
      ]
     },
     "execution_count": 13,
     "metadata": {},
     "output_type": "execute_result"
    }
   ],
   "source": [
    "string = \"HELLO PYTHON \"\n",
    "string.lower()\n"
   ]
  },
  {
   "cell_type": "code",
   "execution_count": 19,
   "id": "506abd96-bdd0-414b-9a6c-f662a0128d1b",
   "metadata": {},
   "outputs": [
    {
     "data": {
      "text/plain": [
       "'lo its me '"
      ]
     },
     "execution_count": 19,
     "metadata": {},
     "output_type": "execute_result"
    }
   ],
   "source": [
    "number_1 = (\"hlo its me \")\n",
    "number_1[1::1]"
   ]
  },
  {
   "cell_type": "code",
   "execution_count": 21,
   "id": "1ead7ac6-93d1-4e1a-9416-bc32937ab1c7",
   "metadata": {},
   "outputs": [
    {
     "data": {
      "text/plain": [
       "'ism'"
      ]
     },
     "execution_count": 21,
     "metadata": {},
     "output_type": "execute_result"
    }
   ],
   "source": [
    "number_1[4:9:2]"
   ]
  },
  {
   "cell_type": "code",
   "execution_count": 22,
   "id": "f81ea032-1064-4760-950f-7e554ad14d7b",
   "metadata": {},
   "outputs": [
    {
     "data": {
      "text/plain": [
       "'dahai'"
      ]
     },
     "execution_count": 22,
     "metadata": {},
     "output_type": "execute_result"
    }
   ],
   "source": [
    "number_2 = \"devansh saini \" \n",
    "number_2[::3]\n"
   ]
  },
  {
   "cell_type": "code",
   "execution_count": 24,
   "id": "401d0c37-9778-47a7-925e-61f991912f54",
   "metadata": {},
   "outputs": [
    {
     "data": {
      "text/plain": [
       "'vansh saini'"
      ]
     },
     "execution_count": 24,
     "metadata": {},
     "output_type": "execute_result"
    }
   ],
   "source": [
    "number_2[-12:-1:1]"
   ]
  },
  {
   "cell_type": "code",
   "execution_count": 25,
   "id": "623cf6a3-9a6c-4ce9-8429-114fdf0f16cc",
   "metadata": {},
   "outputs": [
    {
     "data": {
      "text/plain": [
       "'daha'"
      ]
     },
     "execution_count": 25,
     "metadata": {},
     "output_type": "execute_result"
    }
   ],
   "source": [
    "number_2[-14:-2:3]\n"
   ]
  },
  {
   "cell_type": "code",
   "execution_count": null,
   "id": "bab61cba-580a-45c2-9a25-f943b6752372",
   "metadata": {},
   "outputs": [],
   "source": []
  }
 ],
 "metadata": {
  "kernelspec": {
   "display_name": "Python 3 (ipykernel)",
   "language": "python",
   "name": "python3"
  },
  "language_info": {
   "codemirror_mode": {
    "name": "ipython",
    "version": 3
   },
   "file_extension": ".py",
   "mimetype": "text/x-python",
   "name": "python",
   "nbconvert_exporter": "python",
   "pygments_lexer": "ipython3",
   "version": "3.11.7"
  }
 },
 "nbformat": 4,
 "nbformat_minor": 5
}
