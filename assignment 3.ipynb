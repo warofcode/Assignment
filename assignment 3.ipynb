{
 "cells": [
  {
   "cell_type": "markdown",
   "id": "597d174a-6f91-420d-8812-a7448115c8a1",
   "metadata": {},
   "source": [
    "Q1 . Why are functions advantageous to have in your programs?"
   ]
  },
  {
   "cell_type": "markdown",
   "id": "48ad8ceb-12a2-4bd5-a3f2-8d1b31c130c0",
   "metadata": {},
   "source": [
    "ans 1 . advantage of using function in programs :- \n",
    "1. easier to understand \n",
    "2. organised \n",
    "3. promote to reuse \n"
   ]
  },
  {
   "cell_type": "code",
   "execution_count": null,
   "id": "c063dee4-ab9d-491c-ae10-addaa0705bc1",
   "metadata": {},
   "outputs": [],
   "source": []
  },
  {
   "cell_type": "markdown",
   "id": "eeecfc72-6ebd-46a7-9336-5b6b5d70b7ad",
   "metadata": {},
   "source": [
    "Q2 . When does the code in a function run: when it&#39;s specified or when it&#39;s called?"
   ]
  },
  {
   "cell_type": "markdown",
   "id": "c4113750-ca22-4f52-8f81-afa2cf7b07fb",
   "metadata": {},
   "source": [
    "ans2 . the code in a function run when function is called .."
   ]
  },
  {
   "cell_type": "code",
   "execution_count": null,
   "id": "1ccceec8-f4d2-4701-8e08-78a3b6aefffc",
   "metadata": {},
   "outputs": [],
   "source": []
  },
  {
   "cell_type": "markdown",
   "id": "ba74821f-15b9-4cc0-9ae3-4bc1847f9561",
   "metadata": {},
   "source": [
    "Q3 . What statement creates a function?"
   ]
  },
  {
   "cell_type": "markdown",
   "id": "e858af75-b87c-45eb-a8d4-1a4fb1871786",
   "metadata": {},
   "source": [
    "ans 3. statment that create a function - def name():"
   ]
  },
  {
   "cell_type": "code",
   "execution_count": null,
   "id": "eb1650c0-dcee-43aa-99f3-ed0da855d13d",
   "metadata": {},
   "outputs": [],
   "source": []
  },
  {
   "cell_type": "markdown",
   "id": "5ae8e1c4-5c00-4ca1-8b66-a00a24f61f49",
   "metadata": {},
   "source": [
    "Q4 . What is the difference between a function and a function call?"
   ]
  },
  {
   "cell_type": "markdown",
   "id": "db9894a1-ec15-4c4e-901c-acc237ba5366",
   "metadata": {},
   "source": [
    "ans 4. a funton - the code stored in a variable it run when it is called by its name .\n",
    "\n",
    "    a function call - when we call a function by its name to execute it in code ."
   ]
  },
  {
   "cell_type": "code",
   "execution_count": null,
   "id": "5794bc89-c4b5-4a82-be36-1f9d70ce23a1",
   "metadata": {},
   "outputs": [],
   "source": []
  },
  {
   "cell_type": "markdown",
   "id": "374194c0-e911-4b2a-81df-ca9743ea887b",
   "metadata": {},
   "source": [
    "Q5 . How many global scopes are there in a Python program? How many local scopes?"
   ]
  },
  {
   "cell_type": "markdown",
   "id": "c18a92c6-907e-4cdf-8169-0ff73ab23479",
   "metadata": {},
   "source": [
    "ans 5 . global scope can be only one and local scope is as many as u use in python program ."
   ]
  },
  {
   "cell_type": "code",
   "execution_count": null,
   "id": "345d3abb-8fd3-4873-9711-af9d267b8535",
   "metadata": {},
   "outputs": [],
   "source": []
  },
  {
   "cell_type": "markdown",
   "id": "627018b6-0d98-4f27-9afc-33bd606ef1f1",
   "metadata": {},
   "source": [
    "Q6 . What happens to variables in a local scope when the function call returns?"
   ]
  },
  {
   "cell_type": "markdown",
   "id": "91a41438-77b9-4d20-96f9-e70cde269264",
   "metadata": {},
   "source": [
    "ans 6. every time when function is called new locsl scope is created ."
   ]
  },
  {
   "cell_type": "code",
   "execution_count": null,
   "id": "f660de36-75f9-4681-a9c2-d8b6a8ca86ff",
   "metadata": {},
   "outputs": [],
   "source": []
  },
  {
   "cell_type": "markdown",
   "id": "9bd15a0a-5a24-4b16-a407-2709d88fa564",
   "metadata": {},
   "source": [
    "Q7 . What is the concept of a return value? Is it possible to have a return value in an expression?"
   ]
  },
  {
   "cell_type": "markdown",
   "id": "6ea41b7a-624f-4ded-b207-efc49e6431d7",
   "metadata": {},
   "source": [
    "ans 7 . a return value is value given by the function when execution is complete and fuction is called . yes, we can use return value in an expression . "
   ]
  },
  {
   "cell_type": "code",
   "execution_count": null,
   "id": "97357d70-cf1f-4962-933c-56ba17ba40a7",
   "metadata": {},
   "outputs": [],
   "source": []
  },
  {
   "cell_type": "markdown",
   "id": "e71ec894-c367-4583-a9e3-d1ded59ed20c",
   "metadata": {},
   "source": [
    "Q8 . If a function does not have a return statement, what is the return value of a call to that function?"
   ]
  },
  {
   "cell_type": "markdown",
   "id": "b9ce440f-7b4f-48e5-a071-ae223a3202e5",
   "metadata": {},
   "source": [
    "ans 8. if a funtion does not have a return statement, the return value of the fuction when it is called is none."
   ]
  },
  {
   "cell_type": "code",
   "execution_count": null,
   "id": "387359e0-4d54-4c48-9f54-f3e4f48eb58c",
   "metadata": {},
   "outputs": [],
   "source": []
  },
  {
   "cell_type": "markdown",
   "id": "ecdac2e8-6b2b-457c-add0-5324627ebfb1",
   "metadata": {},
   "source": [
    "Q9. How do you make a function variable refer to the global variable?"
   ]
  },
  {
   "cell_type": "markdown",
   "id": "de35e9df-cc85-477c-b6ad-874f7599fbf4",
   "metadata": {},
   "source": [
    "ans 9.To make the variable global we use global keyword inside the function ."
   ]
  },
  {
   "cell_type": "code",
   "execution_count": null,
   "id": "fc94ab2c-abd9-4b73-a0a6-36d05f06a459",
   "metadata": {},
   "outputs": [],
   "source": []
  },
  {
   "cell_type": "markdown",
   "id": "48068665-0115-4b8b-a702-9e26cbd13cf9",
   "metadata": {},
   "source": [
    "Q10 . What is the data type of None?"
   ]
  },
  {
   "cell_type": "markdown",
   "id": "c6099237-8d3f-4c60-b2b0-adbca8e8e33b",
   "metadata": {},
   "source": [
    "ans 10. Nonetype "
   ]
  },
  {
   "cell_type": "code",
   "execution_count": null,
   "id": "82e0858e-2557-4db4-a473-dbfaffa53bc7",
   "metadata": {},
   "outputs": [],
   "source": []
  },
  {
   "cell_type": "markdown",
   "id": "9d182ea2-c9bc-4e7f-bcc2-c8fc86171f62",
   "metadata": {},
   "source": [
    "Q11 .  What does the sentence import areallyourpetsnamederic do?"
   ]
  },
  {
   "cell_type": "markdown",
   "id": "b58420a8-3cb8-453a-816b-dd0a4781ed5e",
   "metadata": {},
   "source": [
    "ans 11. this sentence is used to import the module named areallyourpetsnamederic in the python program ."
   ]
  },
  {
   "cell_type": "code",
   "execution_count": null,
   "id": "652470b9-82af-449c-9a91-a07098a8a2ac",
   "metadata": {},
   "outputs": [],
   "source": []
  },
  {
   "cell_type": "markdown",
   "id": "e207e749-7582-4939-ac29-f19d0dfbc40a",
   "metadata": {},
   "source": [
    "Q 12. If you had a bacon() feature in a spam module, what would you call it after importing spam?"
   ]
  },
  {
   "cell_type": "markdown",
   "id": "bf744be0-97ae-4e84-8905-c01fbda57c42",
   "metadata": {},
   "source": [
    "ans 12. spam.bacon()"
   ]
  },
  {
   "cell_type": "code",
   "execution_count": null,
   "id": "256b5797-ee6d-455d-82c2-11c64b3e8f56",
   "metadata": {},
   "outputs": [],
   "source": []
  },
  {
   "cell_type": "markdown",
   "id": "d96810eb-a485-43be-b336-9547969c661a",
   "metadata": {},
   "source": [
    "Q13 . What can you do to save a programme from crashing if it encounters an error?"
   ]
  },
  {
   "cell_type": "markdown",
   "id": "241e169e-e649-4547-bc83-c7ab4cc5a5a0",
   "metadata": {},
   "source": [
    "ans 13. by using try,except ,else and finally . "
   ]
  },
  {
   "cell_type": "code",
   "execution_count": null,
   "id": "377fe057-c750-4560-8ba1-de8c3d8fbc4d",
   "metadata": {},
   "outputs": [],
   "source": []
  },
  {
   "cell_type": "markdown",
   "id": "92de4f2a-6f9e-4016-a4f8-0bfcdd8a060f",
   "metadata": {},
   "source": [
    "Q14 .What is the purpose of the try clause? What is the purpose of the except clause?"
   ]
  },
  {
   "cell_type": "markdown",
   "id": "aaf45ca7-7b29-4b62-b3b6-754bd6af9949",
   "metadata": {},
   "source": [
    "ans 14 . purpose for using try , ti escape from the errors by putting speecific code in the try ,whicjh can give us error.\n",
    "\n",
    "except is used whrn try is used because if code in try blocks , so program can run continue without giving erroe .\n"
   ]
  },
  {
   "cell_type": "code",
   "execution_count": null,
   "id": "35631c8c-e5e8-43a8-94d0-85d4e374fecb",
   "metadata": {},
   "outputs": [],
   "source": []
  }
 ],
 "metadata": {
  "kernelspec": {
   "display_name": "Python 3 (ipykernel)",
   "language": "python",
   "name": "python3"
  },
  "language_info": {
   "codemirror_mode": {
    "name": "ipython",
    "version": 3
   },
   "file_extension": ".py",
   "mimetype": "text/x-python",
   "name": "python",
   "nbconvert_exporter": "python",
   "pygments_lexer": "ipython3",
   "version": "3.11.7"
  }
 },
 "nbformat": 4,
 "nbformat_minor": 5
}
