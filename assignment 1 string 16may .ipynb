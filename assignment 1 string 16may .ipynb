{
 "cells": [
  {
   "cell_type": "code",
   "execution_count": 1,
   "id": "62d47af3-80fd-413f-85f5-b8a3b1c4ccf4",
   "metadata": {},
   "outputs": [
    {
     "name": "stdout",
     "output_type": "stream",
     "text": [
      "devanshsaini\n"
     ]
    }
   ],
   "source": [
    "# 1. How do you concatenate two strings in Python?\n",
    "name_1 = \"devansh\"\n",
    "name_2 = \"saini\"\n",
    "print(name_1 + name_2)"
   ]
  },
  {
   "cell_type": "code",
   "execution_count": 7,
   "id": "a6bf5261-53ec-4840-be7f-2dc5dae16730",
   "metadata": {},
   "outputs": [],
   "source": [
    "# 2. What is the difference between the + operator and the join() method for\n",
    "# concatenating strings?"
   ]
  },
  {
   "cell_type": "code",
   "execution_count": 8,
   "id": "7683e7c9-64ea-4f5b-977e-e96288898575",
   "metadata": {},
   "outputs": [
    {
     "data": {
      "text/plain": [
       "'devanshsaini'"
      ]
     },
     "execution_count": 8,
     "metadata": {},
     "output_type": "execute_result"
    }
   ],
   "source": [
    "name_1 + name_2"
   ]
  },
  {
   "cell_type": "code",
   "execution_count": 9,
   "id": "3402a14a-6f4a-42ce-aa98-ca3d23530168",
   "metadata": {},
   "outputs": [
    {
     "name": "stdout",
     "output_type": "stream",
     "text": [
      "devansh#saini\n"
     ]
    }
   ],
   "source": [
    "name =  (\"devansh\",\"saini\")\n",
    "x = ('#'.join(name))\n",
    "print(x )"
   ]
  },
  {
   "cell_type": "code",
   "execution_count": 10,
   "id": "b8f9342c-0a4d-4ed9-b708-c3e51e95d464",
   "metadata": {},
   "outputs": [],
   "source": [
    "# 3. How do you access individual characters in a string?\n"
   ]
  },
  {
   "cell_type": "code",
   "execution_count": 13,
   "id": "5e10ee1b-a50a-46e0-a524-df97f453f751",
   "metadata": {},
   "outputs": [
    {
     "data": {
      "text/plain": [
       "2"
      ]
     },
     "execution_count": 13,
     "metadata": {},
     "output_type": "execute_result"
    }
   ],
   "source": [
    "name = 'devansh saini '\n",
    "name.find('v')"
   ]
  },
  {
   "cell_type": "code",
   "execution_count": 14,
   "id": "5f274696-d710-4ef3-8fc3-196f77e5f132",
   "metadata": {},
   "outputs": [],
   "source": [
    "# 4. What method is used to find the length of a string in Python?\n"
   ]
  },
  {
   "cell_type": "code",
   "execution_count": 19,
   "id": "b14898b7-27a0-4c90-9158-ab047710da71",
   "metadata": {},
   "outputs": [
    {
     "data": {
      "text/plain": [
       "4"
      ]
     },
     "execution_count": 19,
     "metadata": {},
     "output_type": "execute_result"
    }
   ],
   "source": [
    "name = \"ducat\"\n",
    "name.index('t')\n"
   ]
  },
  {
   "cell_type": "code",
   "execution_count": 20,
   "id": "a0d6baac-2024-403c-882e-75caec5ab484",
   "metadata": {},
   "outputs": [],
   "source": [
    "# 5. How can you convert a string to uppercase in Python?\n"
   ]
  },
  {
   "cell_type": "code",
   "execution_count": 24,
   "id": "5fd36253-8407-4c25-9e28-00d99f30556f",
   "metadata": {},
   "outputs": [
    {
     "data": {
      "text/plain": [
       "'THIS IS PYTHON '"
      ]
     },
     "execution_count": 24,
     "metadata": {},
     "output_type": "execute_result"
    }
   ],
   "source": [
    "str = \"this is python \"\n",
    "str.upper()"
   ]
  },
  {
   "cell_type": "code",
   "execution_count": 25,
   "id": "8148ea8f-634f-407b-a5bb-5591d98c513d",
   "metadata": {},
   "outputs": [],
   "source": [
    "# 6. How can you convert a string to lowercase in Python?"
   ]
  },
  {
   "cell_type": "code",
   "execution_count": 26,
   "id": "716180a2-f394-45a4-8ec1-a1b51951969f",
   "metadata": {},
   "outputs": [
    {
     "data": {
      "text/plain": [
       "'this is python '"
      ]
     },
     "execution_count": 26,
     "metadata": {},
     "output_type": "execute_result"
    }
   ],
   "source": [
    "str.lower()"
   ]
  },
  {
   "cell_type": "code",
   "execution_count": 27,
   "id": "ca4779b0-d16e-4a13-a02a-a452d12cb621",
   "metadata": {},
   "outputs": [],
   "source": [
    "# 7. What method is used to replace substrings within a string?"
   ]
  },
  {
   "cell_type": "code",
   "execution_count": 28,
   "id": "a8842ced-5517-4bf8-9e23-6d43222ffa7d",
   "metadata": {},
   "outputs": [
    {
     "data": {
      "text/plain": [
       "'this is java '"
      ]
     },
     "execution_count": 28,
     "metadata": {},
     "output_type": "execute_result"
    }
   ],
   "source": [
    "str.replace(\"python\",\"java\")"
   ]
  },
  {
   "cell_type": "code",
   "execution_count": 29,
   "id": "bd849963-68e0-4813-aace-4e75fb215764",
   "metadata": {},
   "outputs": [],
   "source": [
    "# 8. How can you split a string into a list of substrings based on a delimiter?"
   ]
  },
  {
   "cell_type": "code",
   "execution_count": 4,
   "id": "fb1c5822-e740-4655-a6c4-8ecf27fa4825",
   "metadata": {},
   "outputs": [
    {
     "name": "stdout",
     "output_type": "stream",
     "text": [
      "pyhton is \n",
      "easy for \n",
      "coders\n"
     ]
    }
   ],
   "source": [
    "string = \"pyhton is \\neasy for \\ncoders\"\n",
    "print(string)"
   ]
  },
  {
   "cell_type": "code",
   "execution_count": 30,
   "id": "8c370bf6-25c1-4e71-8c9d-a409fa8863ac",
   "metadata": {},
   "outputs": [],
   "source": [
    "# 9. How do you check if a string starts with a particular substring?\n"
   ]
  },
  {
   "cell_type": "code",
   "execution_count": 36,
   "id": "64f1043b-a3fc-47a5-8022-429250202eb2",
   "metadata": {},
   "outputs": [
    {
     "data": {
      "text/plain": [
       "True"
      ]
     },
     "execution_count": 36,
     "metadata": {},
     "output_type": "execute_result"
    }
   ],
   "source": [
    "string = \"hlo world\"\n",
    "string.startswith(\"h\")"
   ]
  },
  {
   "cell_type": "code",
   "execution_count": 34,
   "id": "860bd733-0051-4bc7-a168-b6bd633f5e01",
   "metadata": {},
   "outputs": [],
   "source": [
    "# 10. How do you check if a string ends with a particular substring?"
   ]
  },
  {
   "cell_type": "code",
   "execution_count": 37,
   "id": "ff063a15-bd56-4e25-945c-c763d95a8592",
   "metadata": {},
   "outputs": [
    {
     "data": {
      "text/plain": [
       "True"
      ]
     },
     "execution_count": 37,
     "metadata": {},
     "output_type": "execute_result"
    }
   ],
   "source": [
    "string.endswith(\"d\")"
   ]
  },
  {
   "cell_type": "code",
   "execution_count": 38,
   "id": "ad9c014d-4bf0-44d7-a4b1-fe1448c851c4",
   "metadata": {},
   "outputs": [],
   "source": [
    "# 11. How can you remove leading and trailing whitespace from a string?"
   ]
  },
  {
   "cell_type": "code",
   "execution_count": 39,
   "id": "8b66ddb2-bbd0-4070-aa16-29ec46f6235f",
   "metadata": {},
   "outputs": [
    {
     "data": {
      "text/plain": [
       "'hlo    world'"
      ]
     },
     "execution_count": 39,
     "metadata": {},
     "output_type": "execute_result"
    }
   ],
   "source": [
    "string = \"      hlo    world      \"\n",
    "string.strip()"
   ]
  },
  {
   "cell_type": "code",
   "execution_count": 40,
   "id": "7df21d44-b4c2-45e7-a2e8-5755744ff091",
   "metadata": {},
   "outputs": [],
   "source": [
    "# 12. What method is used to find the index of the first occurrence of a substring within a\n",
    "# string?"
   ]
  },
  {
   "cell_type": "code",
   "execution_count": 42,
   "id": "9c7ccb38-9c05-402a-a6d4-0b26a5cee69e",
   "metadata": {},
   "outputs": [
    {
     "data": {
      "text/plain": [
       "17"
      ]
     },
     "execution_count": 42,
     "metadata": {},
     "output_type": "execute_result"
    }
   ],
   "source": [
    "string.index('d')"
   ]
  },
  {
   "cell_type": "code",
   "execution_count": 43,
   "id": "5cddfac6-5ea4-4221-8121-5c6128b90bf2",
   "metadata": {},
   "outputs": [],
   "source": [
    "# 13. How can you count the number of occurrences of a substring within a string?"
   ]
  },
  {
   "cell_type": "code",
   "execution_count": 16,
   "id": "6084ebd3-e522-48e8-8b3c-cbf6d13b5c25",
   "metadata": {},
   "outputs": [
    {
     "data": {
      "text/plain": [
       "1"
      ]
     },
     "execution_count": 16,
     "metadata": {},
     "output_type": "execute_result"
    }
   ],
   "source": [
    "string = \"it's time to code\"\n",
    "string.count(string)"
   ]
  },
  {
   "cell_type": "code",
   "execution_count": 44,
   "id": "ee161880-7d51-41ed-90ad-f5d3f7342ac1",
   "metadata": {},
   "outputs": [],
   "source": [
    "# 14 .How do you check if a string contains only alphabetic characters?"
   ]
  },
  {
   "cell_type": "code",
   "execution_count": 46,
   "id": "e736e23b-f09a-482e-abb1-dac4f039e04e",
   "metadata": {},
   "outputs": [
    {
     "data": {
      "text/plain": [
       "True"
      ]
     },
     "execution_count": 46,
     "metadata": {},
     "output_type": "execute_result"
    }
   ],
   "source": [
    "string = \"devansh\"\n",
    "string.isalpha()"
   ]
  },
  {
   "cell_type": "code",
   "execution_count": 47,
   "id": "a4bd7a66-6cb5-4c65-9494-a51b619ce599",
   "metadata": {},
   "outputs": [],
   "source": [
    "# 15. How do you check if a string contains only numeric characters?"
   ]
  },
  {
   "cell_type": "code",
   "execution_count": 48,
   "id": "448d70d6-0780-4d1b-a799-8af033c353b8",
   "metadata": {},
   "outputs": [
    {
     "data": {
      "text/plain": [
       "True"
      ]
     },
     "execution_count": 48,
     "metadata": {},
     "output_type": "execute_result"
    }
   ],
   "source": [
    "num = \"27828729\"\n",
    "num.isdigit()"
   ]
  },
  {
   "cell_type": "code",
   "execution_count": 17,
   "id": "03d117ed-ac64-4526-963e-968448fea27a",
   "metadata": {},
   "outputs": [],
   "source": [
    "# 16. How can you check if a string is a palindrome?"
   ]
  },
  {
   "cell_type": "code",
   "execution_count": null,
   "id": "7dd2c450-7dd2-46eb-8efe-a2f1d7ea620d",
   "metadata": {},
   "outputs": [],
   "source": []
  },
  {
   "cell_type": "code",
   "execution_count": null,
   "id": "fe02c35f-eeb0-48c9-817f-e978bed2d451",
   "metadata": {},
   "outputs": [],
   "source": []
  },
  {
   "cell_type": "code",
   "execution_count": 18,
   "id": "66728dc2-d6e8-4e7e-a81f-da03a2ec967c",
   "metadata": {},
   "outputs": [],
   "source": [
    "# 17. How can you reverse a string in Python?"
   ]
  },
  {
   "cell_type": "code",
   "execution_count": 1,
   "id": "4253ce29-f8c8-4adb-9738-643cf5eb60b0",
   "metadata": {},
   "outputs": [
    {
     "data": {
      "text/plain": [
       "'nohtyp'"
      ]
     },
     "execution_count": 1,
     "metadata": {},
     "output_type": "execute_result"
    }
   ],
   "source": [
    "string = \"python\"\n",
    "string[::-1]"
   ]
  },
  {
   "cell_type": "code",
   "execution_count": 2,
   "id": "c793b0a9-11bc-4347-8bc5-6aef7f176bc2",
   "metadata": {},
   "outputs": [],
   "source": [
    "# 18. How do you format a string with placeholders for variable values?"
   ]
  },
  {
   "cell_type": "code",
   "execution_count": 2,
   "id": "5e274d39-d1b7-47f9-b69c-6d929ed214f9",
   "metadata": {},
   "outputs": [
    {
     "name": "stdout",
     "output_type": "stream",
     "text": [
      "I study at ducat . my course is python\n"
     ]
    }
   ],
   "source": [
    "a = \"ducat\"\n",
    "b = \"python\"\n",
    "string = \"I study at {} . my course is {}\".format(a,b)\n",
    "print(string)\n",
    "\n"
   ]
  },
  {
   "cell_type": "code",
   "execution_count": 4,
   "id": "6d5bf6ab-48d8-4b8c-8911-cf7a5e811a28",
   "metadata": {},
   "outputs": [],
   "source": [
    "# 19. How do you access a substring of a string using slicing?"
   ]
  },
  {
   "cell_type": "code",
   "execution_count": 6,
   "id": "53fa0934-e7d1-4192-9226-ccffdcf7e120",
   "metadata": {},
   "outputs": [
    {
     "name": "stdout",
     "output_type": "stream",
     "text": [
      "t noi\n"
     ]
    }
   ],
   "source": [
    "a = \"ducat noida 16\"\n",
    "b = a[4:9]\n",
    "print(b)"
   ]
  },
  {
   "cell_type": "code",
   "execution_count": 5,
   "id": "aadbff78-ab8a-4aeb-a02e-f93a7e7e1035",
   "metadata": {},
   "outputs": [],
   "source": [
    "# 20. How can you remove specific characters from a string in Python?"
   ]
  },
  {
   "cell_type": "code",
   "execution_count": 8,
   "id": "3a38c4f1-efaf-4c0f-8af7-ba2c19c9702b",
   "metadata": {},
   "outputs": [
    {
     "data": {
      "text/plain": [
       "'dutat'"
      ]
     },
     "execution_count": 8,
     "metadata": {},
     "output_type": "execute_result"
    }
   ],
   "source": [
    "string = \"ducat\"\n",
    "string.replace(\"c\",\"t\")"
   ]
  }
 ],
 "metadata": {
  "kernelspec": {
   "display_name": "Python 3 (ipykernel)",
   "language": "python",
   "name": "python3"
  },
  "language_info": {
   "codemirror_mode": {
    "name": "ipython",
    "version": 3
   },
   "file_extension": ".py",
   "mimetype": "text/x-python",
   "name": "python",
   "nbconvert_exporter": "python",
   "pygments_lexer": "ipython3",
   "version": "3.11.7"
  }
 },
 "nbformat": 4,
 "nbformat_minor": 5
}
