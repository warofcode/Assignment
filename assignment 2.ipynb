{
 "cells": [
  {
   "cell_type": "markdown",
   "id": "2b888015-8ae4-434d-be41-0c82cc07be0c",
   "metadata": {},
   "source": [
    "Q1 .What are the two values of the Boolean data type? How do you write them?"
   ]
  },
  {
   "cell_type": "markdown",
   "id": "ddf3a537-7437-41bc-bf42-1d230b057ca0",
   "metadata": {},
   "source": [
    "ans 1. the two values of the bollean data type are 'true ' and 'false '\n"
   ]
  },
  {
   "cell_type": "code",
   "execution_count": null,
   "id": "da7b4099-605b-4730-a2f5-6dc2160835b7",
   "metadata": {},
   "outputs": [],
   "source": []
  },
  {
   "cell_type": "markdown",
   "id": "1f60a381-f851-4504-af38-e539937240e6",
   "metadata": {},
   "source": [
    "Q2 . What are the three different types of Boolean operators?"
   ]
  },
  {
   "cell_type": "markdown",
   "id": "0c77a003-3cbd-4338-ae15-681e80c26dc0",
   "metadata": {},
   "source": [
    "three different bollian operator are :-\n",
    "\n",
    "1. and \n",
    "2. or\n",
    "3. not"
   ]
  },
  {
   "cell_type": "code",
   "execution_count": null,
   "id": "f08849fd-db87-492f-8a96-4f3e68aad725",
   "metadata": {},
   "outputs": [],
   "source": []
  },
  {
   "cell_type": "markdown",
   "id": "470229c4-25db-4035-bd1b-41e208d3d23e",
   "metadata": {},
   "source": [
    "Q3 . Make a list of each Boolean operator&#39;s truth tables (i.e. every possible combination of Boolean\n",
    "values for the operator and what it evaluate )."
   ]
  },
  {
   "cell_type": "code",
   "execution_count": null,
   "id": "24203ac7-5c42-4c6b-bfec-9dd582e8a309",
   "metadata": {},
   "outputs": [],
   "source": []
  },
  {
   "cell_type": "markdown",
   "id": "1d82579d-f0af-4a77-8bd8-c191f97755d3",
   "metadata": {},
   "source": [
    "Q4 . What are the values of the following expressions?\n",
    "(5 > 4) and (3 == 5)\n",
    "not (5 > 4)\n",
    "(5 > 4) or (3 == 5)\n",
    "not ((5 > 4) or (3 == 5))\n",
    "(True and True) and (True == False)\n",
    "(not False) or (not True)"
   ]
  },
  {
   "cell_type": "markdown",
   "id": "a5e666f2-b504-4bc3-8038-21ab19557d88",
   "metadata": {},
   "source": [
    "ans 4 . False \n",
    "False\n",
    "True \n",
    "False "
   ]
  },
  {
   "cell_type": "code",
   "execution_count": null,
   "id": "142fabe0-f6df-4e09-9827-fbb0dfca2399",
   "metadata": {},
   "outputs": [],
   "source": []
  },
  {
   "cell_type": "markdown",
   "id": "67c921a5-664f-4a7b-953b-77b9d2dfcda0",
   "metadata": {},
   "source": [
    "Q5. What are the six comparison operators?"
   ]
  },
  {
   "cell_type": "markdown",
   "id": "3489efe5-bd1e-4bf3-8421-c7df9e0d31c1",
   "metadata": {},
   "source": [
    "ans 5 . equal to == \n",
    "\n",
    "not eqaual to != \n",
    "\n",
    "greater than >\n",
    "\n",
    "lesser than <\n",
    "\n",
    "gretaer than or equal to >= \n",
    "\n",
    "less than or equal to <= "
   ]
  },
  {
   "cell_type": "code",
   "execution_count": null,
   "id": "625680cd-c452-4f3d-9481-c1c1636be727",
   "metadata": {},
   "outputs": [],
   "source": []
  },
  {
   "cell_type": "markdown",
   "id": "7c07d605-cea0-440a-98a5-d093580c9f4d",
   "metadata": {},
   "source": [
    "Q6 . How do you tell the difference between the equal to and assignment operators?Describe a\n",
    "condition and when you would use one."
   ]
  },
  {
   "cell_type": "markdown",
   "id": "25b0c90e-90dd-4b19-850c-6e6be60a09be",
   "metadata": {},
   "source": [
    "difference between equal to and assignment operator :- \n",
    "\n",
    "equal to = equal to is used to assign a value to the variable . Ex. a = 4 \n",
    "\n",
    "assignment operator = assignment operator(==) is used to compare the values and get true or false in result ."
   ]
  },
  {
   "cell_type": "code",
   "execution_count": null,
   "id": "9e7976fc-75f0-43f2-8ea4-4f1972d77f0c",
   "metadata": {},
   "outputs": [],
   "source": []
  },
  {
   "cell_type": "markdown",
   "id": "cf313915-fb02-4c64-b13c-b96ed861955b",
   "metadata": {},
   "source": [
    "Q7 . Identify the three blocks in this code:\n",
    "spam = 0\n",
    "if spam == 10:\n",
    "print('eggs')\n",
    "if spam > 5:\n",
    "print('bacon')\n",
    "else:\n",
    "print('ham')\n",
    "print('spam')\n",
    "print('spam')"
   ]
  },
  {
   "cell_type": "markdown",
   "id": "ad12521e-8472-42ce-8f62-dccaf705d0f8",
   "metadata": {},
   "source": [
    "ans 7. ham \n",
    "spam \n",
    "spam \n"
   ]
  },
  {
   "cell_type": "code",
   "execution_count": null,
   "id": "8c805f21-17aa-45f0-8845-48543900da0d",
   "metadata": {},
   "outputs": [],
   "source": []
  },
  {
   "cell_type": "markdown",
   "id": "6687df44-da8f-4cb2-91f5-7269dd4e19f1",
   "metadata": {},
   "source": [
    "Q8 . Write code that prints Hello if 1 is stored in spam, prints Howdy if 2 is stored in spam, and prints\n",
    "Greetings! if anything else is stored in spam."
   ]
  },
  {
   "cell_type": "markdown",
   "id": "99dcd91f-9251-4701-b647-ee814a6c1ec2",
   "metadata": {},
   "source": [
    "Ans8 . spam = 1 \n",
    "if spam == 1 :\n",
    "    print(\"Hello\")\n",
    "\n",
    "if spam == 2 :\n",
    "    print(\"Howdy\")\n",
    "\n",
    "else :\n",
    "    print(\"Greetings \")"
   ]
  },
  {
   "cell_type": "code",
   "execution_count": null,
   "id": "81bfa8e3-1133-4061-965a-3c4ecc794b4d",
   "metadata": {},
   "outputs": [],
   "source": []
  },
  {
   "cell_type": "markdown",
   "id": "1c9dda4b-e1e5-45a0-9647-43e6c6af7fcb",
   "metadata": {},
   "source": [
    "Q9 . If your programme is stuck in an endless loop, what keys you’ll press?"
   ]
  },
  {
   "cell_type": "markdown",
   "id": "50f81c43-398f-4710-aae2-1d171e0ac179",
   "metadata": {},
   "source": [
    "ans 9 . ctrl + c "
   ]
  },
  {
   "cell_type": "code",
   "execution_count": null,
   "id": "0c04788d-d3b1-4b85-a9a0-3035dff85c59",
   "metadata": {},
   "outputs": [],
   "source": []
  },
  {
   "cell_type": "markdown",
   "id": "f51204e3-99a1-4e01-aaa0-cefbd9257bea",
   "metadata": {},
   "source": [
    "Q10. How can you tell the difference between break and continue?"
   ]
  },
  {
   "cell_type": "markdown",
   "id": "1770a467-9127-4879-b04b-52968b53da3c",
   "metadata": {},
   "source": [
    "ans 10. break is used to end the end the loop .\n",
    "\n",
    "continue is used to stop the loop the start it from the starting .\n"
   ]
  },
  {
   "cell_type": "code",
   "execution_count": null,
   "id": "2ed9b62a-a927-4d9a-8877-8bfc351e3a2c",
   "metadata": {},
   "outputs": [],
   "source": []
  },
  {
   "cell_type": "markdown",
   "id": "d7674eb3-9736-4445-8a21-62a26754dc3a",
   "metadata": {},
   "source": [
    "Q11 . In a for loop, what is the difference between range(10), range(0, 10), and range(0, 10, 1)?"
   ]
  },
  {
   "cell_type": "markdown",
   "id": "56d797d9-f85b-4210-9be1-bbd82a8a4c13",
   "metadata": {},
   "source": [
    "ans 11 . range(10) : this is for only stop value . it will give value till stop - 1.\n",
    "\n",
    "raneg(0,10) : this is for start,stop value , it will start from start value to the stop value(stop - 1) \n",
    "\n",
    "range(0,10,1) : this is for start,stop,step ,it will start from start value to stop value(stop-1) with the given steps .\n"
   ]
  },
  {
   "cell_type": "code",
   "execution_count": null,
   "id": "a3815a59-1c89-4ff3-8c82-3dd6162f642f",
   "metadata": {},
   "outputs": [],
   "source": []
  },
  {
   "cell_type": "markdown",
   "id": "41ec69a3-5a7f-4003-a01a-18e30f66a97c",
   "metadata": {},
   "source": [
    "Q12 . Write a short program that prints the numbers 1 to 10 using a for loop. Then write an equivalent\n",
    "program that prints the numbers 1 to 10 using a while loop."
   ]
  },
  {
   "cell_type": "code",
   "execution_count": 8,
   "id": "6011b8f8-cb79-4492-b2fd-17347340ab98",
   "metadata": {},
   "outputs": [
    {
     "name": "stdout",
     "output_type": "stream",
     "text": [
      "1\n",
      "2\n",
      "3\n",
      "4\n",
      "5\n",
      "6\n",
      "7\n",
      "8\n",
      "9\n",
      "10\n",
      "1\n",
      "2\n",
      "3\n",
      "4\n",
      "5\n",
      "6\n",
      "7\n",
      "8\n",
      "9\n",
      "10\n"
     ]
    }
   ],
   "source": [
    "# ans 12. \n",
    "for i in range(1,11):\n",
    "    print(i)\n",
    "\n",
    "\n",
    "i = 1\n",
    "while i <= 10:\n",
    "    print(i)\n",
    "    i += 1\n",
    "    if i == 11:\n",
    "        break\n",
    "    "
   ]
  },
  {
   "cell_type": "code",
   "execution_count": null,
   "id": "f1cc39eb-8761-4107-afa7-1b722813062c",
   "metadata": {},
   "outputs": [],
   "source": []
  },
  {
   "cell_type": "markdown",
   "id": "766e781d-d9fd-4a1c-a22e-a6b69ee221cc",
   "metadata": {},
   "source": [
    "Q13. If you had a function named bacon() inside a module named spam, how would you call it after\n",
    "importing spam?"
   ]
  },
  {
   "cell_type": "markdown",
   "id": "a922e97d-4adc-4a00-a34e-8c6127557a8c",
   "metadata": {},
   "source": [
    "ans13. bacon()"
   ]
  },
  {
   "cell_type": "code",
   "execution_count": null,
   "id": "4377e381-f3ca-4669-8589-c572579dd079",
   "metadata": {},
   "outputs": [],
   "source": []
  }
 ],
 "metadata": {
  "kernelspec": {
   "display_name": "Python 3 (ipykernel)",
   "language": "python",
   "name": "python3"
  },
  "language_info": {
   "codemirror_mode": {
    "name": "ipython",
    "version": 3
   },
   "file_extension": ".py",
   "mimetype": "text/x-python",
   "name": "python",
   "nbconvert_exporter": "python",
   "pygments_lexer": "ipython3",
   "version": "3.11.7"
  }
 },
 "nbformat": 4,
 "nbformat_minor": 5
}
