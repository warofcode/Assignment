{
 "cells": [
  {
   "cell_type": "markdown",
   "id": "45bba08f-f61c-46a9-b674-b74b79089ea5",
   "metadata": {},
   "source": [
    "Write a Python program that generates a random number between 1 and 100.\n",
    "The user should then repeatedly guess the number until they guess it correctly.\n",
    "After each guess, the program should provide feedback to the user, indicating\n",
    "whether their guess is too high, too low, or correct. Once the correct number is\n",
    "guessed, the program should print the number of attempts it took the user to\n",
    "guess the correct number."
   ]
  },
  {
   "cell_type": "code",
   "execution_count": 2,
   "id": "2485ddf7-9405-4878-8bbd-101905fa021c",
   "metadata": {},
   "outputs": [
    {
     "name": "stdout",
     "output_type": "stream",
     "text": [
      "welcome , to the number guessing game\n",
      "I have chosen a number between 1 to 100 .try to guess it ..\n"
     ]
    },
    {
     "name": "stdin",
     "output_type": "stream",
     "text": [
      "guess the number : 45\n"
     ]
    },
    {
     "name": "stdout",
     "output_type": "stream",
     "text": [
      "too low! .Try again \n"
     ]
    },
    {
     "name": "stdin",
     "output_type": "stream",
     "text": [
      "guess the number : 60\n"
     ]
    },
    {
     "name": "stdout",
     "output_type": "stream",
     "text": [
      "too high! .Try again \n"
     ]
    },
    {
     "name": "stdin",
     "output_type": "stream",
     "text": [
      "guess the number : 55\n"
     ]
    },
    {
     "name": "stdout",
     "output_type": "stream",
     "text": [
      "too low! .Try again \n"
     ]
    },
    {
     "name": "stdin",
     "output_type": "stream",
     "text": [
      "guess the number : 56\n"
     ]
    },
    {
     "name": "stdout",
     "output_type": "stream",
     "text": [
      "congratulation! you have guessed correct number : 56 \n",
      "It took you 4 attempts to guess the correct number  \n"
     ]
    }
   ],
   "source": [
    "import random \n",
    "\n",
    "number_to_guess = random.randint(1 ,100)\n",
    "attempts = 0 \n",
    "guessed_correctly = False\n",
    "\n",
    "print(\"welcome , to the number guessing game\")\n",
    "print(\"I have chosen a number between 1 to 100 .try to guess it ..\")\n",
    "\n",
    "while not guessed_correctly:\n",
    "    attempts += 1\n",
    "\n",
    "    \n",
    "\n",
    "    try:\n",
    "        user_guess = int(input(\"guess the number :\"))\n",
    "    except ValueError:\n",
    "        print(\"invalid input. please enter a valid number :\")\n",
    "        continue \n",
    "\n",
    "    \n",
    "    if user_guess < number_to_guess:\n",
    "        print(\"too low! .Try again \")\n",
    "\n",
    "    elif user_guess > number_to_guess:\n",
    "        print(\"too high! .Try again \")\n",
    "\n",
    "    else:\n",
    "        print(f\"congratulation! you have guessed correct number : {number_to_guess} \")\n",
    "        guessed_correctly = True \n",
    "\n",
    "print(f\"It took you {attempts} attempts to guess the correct number  \")\n",
    "\n",
    "        \n",
    "\n",
    "\n",
    "    \n"
   ]
  },
  {
   "cell_type": "code",
   "execution_count": null,
   "id": "031e91e9-a7dc-4d39-93ba-26f70f58e04b",
   "metadata": {},
   "outputs": [],
   "source": []
  }
 ],
 "metadata": {
  "kernelspec": {
   "display_name": "Python 3 (ipykernel)",
   "language": "python",
   "name": "python3"
  },
  "language_info": {
   "codemirror_mode": {
    "name": "ipython",
    "version": 3
   },
   "file_extension": ".py",
   "mimetype": "text/x-python",
   "name": "python",
   "nbconvert_exporter": "python",
   "pygments_lexer": "ipython3",
   "version": "3.11.7"
  }
 },
 "nbformat": 4,
 "nbformat_minor": 5
}
