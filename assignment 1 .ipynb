{
 "cells": [
  {
   "cell_type": "markdown",
   "id": "533b4f23-041c-4854-a166-9422722c1d6c",
   "metadata": {},
   "source": [
    "Q1. In the below elements which of them are values or an expression? eg:- values can be\n",
    "integer or string and expressions will be mathematical operators.\n",
    "*\n",
    "&#39;hello&#39;\n",
    "-87.8\n",
    "-\n",
    "/\n",
    "+\n",
    "6"
   ]
  },
  {
   "cell_type": "markdown",
   "id": "08115961-1ed3-4f4e-b83b-98d801c7b8f5",
   "metadata": {},
   "source": [
    "ans1.\n",
    "values = &#39;hello&#39; , 6 , -87.8 \n",
    "\n",
    "expressions = -, * , + , / , "
   ]
  },
  {
   "cell_type": "code",
   "execution_count": null,
   "id": "4e70e758-8a2e-41c3-8388-a61e29371328",
   "metadata": {},
   "outputs": [],
   "source": []
  },
  {
   "cell_type": "markdown",
   "id": "243f554c-cefc-4c75-ba25-e8ce2baca573",
   "metadata": {},
   "source": [
    "Q2. What is the difference between string and variable?"
   ]
  },
  {
   "cell_type": "markdown",
   "id": "3bf11503-cc20-42ec-a908-a1fed81c4764",
   "metadata": {},
   "source": [
    "ans2 . \n",
    "string = string is the data that contain by the \" \" or ' ' commas . entered data between them is string .\n",
    "\n",
    "variable = this are the words those assigned to the data or words those hold the data , data can be of any type ..\n"
   ]
  },
  {
   "cell_type": "code",
   "execution_count": null,
   "id": "70bd6c27-5ac9-4172-84d4-2db6082a3bb2",
   "metadata": {},
   "outputs": [],
   "source": []
  },
  {
   "cell_type": "markdown",
   "id": "e601648a-11d1-4089-8493-3e13bf4525c3",
   "metadata": {},
   "source": [
    "3. Describe three different data types."
   ]
  },
  {
   "cell_type": "markdown",
   "id": "46718d95-9062-4aae-963d-aff2b4b59c9e",
   "metadata": {},
   "source": [
    "ans3 . \n",
    "\n",
    "three data types are :- \n",
    "\n",
    "1. string = string hold data in \"\" any type of data writen in between of doble inverted commas is string .\n",
    "\n",
    "2. integer = integer hold numeric data but without decimal .\n",
    "\n",
    "3. list = list is the data cobined together between the [ ] square brackets and it can be any type of data .ex - string ,int , float etc "
   ]
  },
  {
   "cell_type": "code",
   "execution_count": null,
   "id": "85414c93-0414-402b-90fa-ee342ce4ea49",
   "metadata": {},
   "outputs": [],
   "source": []
  },
  {
   "cell_type": "markdown",
   "id": "f21884fc-201a-41aa-9441-2585ad31eef6",
   "metadata": {},
   "source": [
    "4. What is an expression made up of? What do all expressions do?"
   ]
  },
  {
   "cell_type": "markdown",
   "id": "7ef7db37-14ed-4a69-b751-b4647e8f00c8",
   "metadata": {},
   "source": [
    "ans4 . \n",
    "\n",
    "expression is made up of values , operators , variables , parathensis . work of expression is to give one value after evaluating it . it can be any thing string,int,float,number. "
   ]
  },
  {
   "cell_type": "code",
   "execution_count": null,
   "id": "ceb55192-975f-4a8c-a566-81b8de2d662b",
   "metadata": {},
   "outputs": [],
   "source": []
  },
  {
   "cell_type": "markdown",
   "id": "a3e74fae-1cbb-4464-8d9a-7a901c9ecf4e",
   "metadata": {},
   "source": [
    "5. This assignment statements, like spam = 10. What is the difference between an\n",
    "expression and a statement?"
   ]
  },
  {
   "cell_type": "markdown",
   "id": "e2275e1c-4f04-4f64-b164-3993dbed577c",
   "metadata": {},
   "source": [
    "ans 5 . \n",
    "\n",
    "statement - A statement is an instruction that python interpreter can execute . ex = 'spam = 10 '\n",
    "\n",
    "expression - a expression is piece of code that evaluates or contains the value . ex = 'spam'\n",
    "\n",
    "             "
   ]
  },
  {
   "cell_type": "code",
   "execution_count": null,
   "id": "c8fd53e7-62e8-4b9f-a0ee-261ddfb67189",
   "metadata": {},
   "outputs": [],
   "source": []
  },
  {
   "cell_type": "markdown",
   "id": "1a6fd2f8-69b3-4a2c-abd6-858bd7c3c653",
   "metadata": {},
   "source": [
    "O6 .After running the following code, what does the variable bacon contain?\n",
    "bacon = 22\n",
    "bacon + 1"
   ]
  },
  {
   "cell_type": "markdown",
   "id": "3fd644cf-cf78-4475-a3a4-54523d6cd5b7",
   "metadata": {},
   "source": [
    "ans 6.  23"
   ]
  },
  {
   "cell_type": "code",
   "execution_count": null,
   "id": "5c64b00f-906c-466f-9ad8-f0866848c486",
   "metadata": {},
   "outputs": [],
   "source": []
  },
  {
   "cell_type": "markdown",
   "id": "5ee64dd9-1fea-42a4-9666-babcf8cf7887",
   "metadata": {},
   "source": [
    "Q7. 7. What should the values of the following two terms be?\n",
    "'spam' + 'sapmspam'\n",
    "'spam' * 3"
   ]
  },
  {
   "cell_type": "markdown",
   "id": "711d068f-df31-4282-a2c6-c5be6d2fc852",
   "metadata": {},
   "source": [
    "ans 7.  'spamspamspam' will be the result for both .\n"
   ]
  },
  {
   "cell_type": "code",
   "execution_count": null,
   "id": "babf8a69-770a-4070-b598-7d8840e5c1e8",
   "metadata": {},
   "outputs": [],
   "source": []
  },
  {
   "cell_type": "markdown",
   "id": "1d8e4d4e-8a2a-41f4-ba15-bdcc2376c548",
   "metadata": {},
   "source": [
    "Q8 . Why is eggs a valid variable name while 100 is invalid?"
   ]
  },
  {
   "cell_type": "markdown",
   "id": "99597c97-506a-4173-b524-9e9afc2e862f",
   "metadata": {},
   "source": [
    "ans 8 . according to the variable rule . a variable will always start with alphabet or underscore .\n",
    "\n",
    "    100 is starting with '1' numeric value that why it is not valid variable ."
   ]
  },
  {
   "cell_type": "code",
   "execution_count": null,
   "id": "bb26c5ee-b5bb-49d0-8524-6352659bb30e",
   "metadata": {},
   "outputs": [],
   "source": []
  },
  {
   "cell_type": "markdown",
   "id": "cb956f64-5079-464b-884d-416d5ef33f80",
   "metadata": {},
   "source": [
    "Q9. What three functions can be used to get the integer, floating-point number, or string\n",
    "version of a value?"
   ]
  },
  {
   "cell_type": "markdown",
   "id": "56ada52a-2cfc-446e-ad0d-b28d85d19622",
   "metadata": {},
   "source": [
    "ans 9.    function that can be used for \n",
    "\n",
    "integer = int()\n",
    "\n",
    "floating point no. = float()\n",
    "\n",
    "string = str()\n",
    "\n",
    "    \n"
   ]
  },
  {
   "cell_type": "code",
   "execution_count": null,
   "id": "830614a7-b702-411d-93ca-1bf039bd30dc",
   "metadata": {},
   "outputs": [],
   "source": []
  },
  {
   "cell_type": "markdown",
   "id": "336877f1-d404-4852-9d42-e400a46d224d",
   "metadata": {},
   "source": [
    "Q10. Why does this expression cause an error? How can you fix it?\n",
    "&#39;I have eaten &#39; + 99 + &#39; burritos.&#39;"
   ]
  },
  {
   "cell_type": "markdown",
   "id": "b2b99b23-c62a-4823-b92f-d4556c8a2204",
   "metadata": {},
   "source": [
    "ans 10 . expression vause an error that you cannot add str value to int value .\n",
    "to fix the code u have to convert int value to str value by putting it in inverted commas .\n",
    "\n",
    "'i have eaten'+'99'+'burritos'"
   ]
  },
  {
   "cell_type": "code",
   "execution_count": null,
   "id": "5d31e61c-8943-4ef0-a9b6-1cb8eb1de456",
   "metadata": {},
   "outputs": [],
   "source": []
  }
 ],
 "metadata": {
  "kernelspec": {
   "display_name": "Python 3 (ipykernel)",
   "language": "python",
   "name": "python3"
  },
  "language_info": {
   "codemirror_mode": {
    "name": "ipython",
    "version": 3
   },
   "file_extension": ".py",
   "mimetype": "text/x-python",
   "name": "python",
   "nbconvert_exporter": "python",
   "pygments_lexer": "ipython3",
   "version": "3.11.7"
  }
 },
 "nbformat": 4,
 "nbformat_minor": 5
}
