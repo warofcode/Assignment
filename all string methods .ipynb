{
 "cells": [
  {
   "cell_type": "code",
   "execution_count": 1,
   "id": "7cd4e309-8b7c-4642-a23e-9ee9aa400c4a",
   "metadata": {},
   "outputs": [
    {
     "data": {
      "text/plain": [
       "'Hello pyhton '"
      ]
     },
     "execution_count": 1,
     "metadata": {},
     "output_type": "execute_result"
    }
   ],
   "source": [
    "string = \"hello pyhton \"\n",
    "string.capitalize()"
   ]
  },
  {
   "cell_type": "code",
   "execution_count": 3,
   "id": "4e52091a-3d3e-483d-bd74-75b77f9469a5",
   "metadata": {},
   "outputs": [
    {
     "data": {
      "text/plain": [
       "'devansh'"
      ]
     },
     "execution_count": 3,
     "metadata": {},
     "output_type": "execute_result"
    }
   ],
   "source": [
    "string = \"DEVansh\"\n",
    "string.casefold()"
   ]
  },
  {
   "cell_type": "code",
   "execution_count": 4,
   "id": "086079e6-f100-4db8-ad23-d3411c88e514",
   "metadata": {},
   "outputs": [
    {
     "data": {
      "text/plain": [
       "\"===============================================================today's topic is string ===============================================================\""
      ]
     },
     "execution_count": 4,
     "metadata": {},
     "output_type": "execute_result"
    }
   ],
   "source": [
    "string = \"today's topic is string \"\n",
    "string.center(150,'=')"
   ]
  },
  {
   "cell_type": "code",
   "execution_count": 5,
   "id": "eb6bf453-04e3-4fd5-b8a7-1c2b3e044e45",
   "metadata": {},
   "outputs": [
    {
     "data": {
      "text/plain": [
       "b\"today's topic is string \""
      ]
     },
     "execution_count": 5,
     "metadata": {},
     "output_type": "execute_result"
    }
   ],
   "source": [
    "string.encode()"
   ]
  },
  {
   "cell_type": "code",
   "execution_count": 8,
   "id": "35c5a63c-9075-4e90-9c5c-145e48fdf44a",
   "metadata": {},
   "outputs": [
    {
     "data": {
      "text/plain": [
       "True"
      ]
     },
     "execution_count": 8,
     "metadata": {},
     "output_type": "execute_result"
    }
   ],
   "source": [
    "string = \"hey, today is friday .\"\n",
    "string.endswith('.')"
   ]
  },
  {
   "cell_type": "code",
   "execution_count": 12,
   "id": "b3b59e61-ee18-40b5-9276-6374585f1378",
   "metadata": {},
   "outputs": [
    {
     "data": {
      "text/plain": [
       "'hey        devansh'"
      ]
     },
     "execution_count": 12,
     "metadata": {},
     "output_type": "execute_result"
    }
   ],
   "source": [
    "string = \"hey \\t devansh\"\n",
    "string.expandtabs(10)"
   ]
  },
  {
   "cell_type": "code",
   "execution_count": 13,
   "id": "2b06feb3-3e1c-4ca1-85a1-e274c940f893",
   "metadata": {},
   "outputs": [
    {
     "data": {
      "text/plain": [
       "9"
      ]
     },
     "execution_count": 13,
     "metadata": {},
     "output_type": "execute_result"
    }
   ],
   "source": [
    "string = \"i am learning pyhton .\"\n",
    "string.find('n')"
   ]
  },
  {
   "cell_type": "code",
   "execution_count": 20,
   "id": "9fe9eb89-e106-4d01-91b8-4ecf53075b00",
   "metadata": {},
   "outputs": [
    {
     "name": "stdout",
     "output_type": "stream",
     "text": [
      "my name is devansh\n"
     ]
    }
   ],
   "source": [
    "name = \"devansh\"\n",
    "str_1 = f\"my name is {name}\"\n",
    "str_1.format(name)\n",
    "print(str_1)"
   ]
  },
  {
   "cell_type": "code",
   "execution_count": 21,
   "id": "89bf1851-1ab9-4da4-bbbf-284b2b48cd48",
   "metadata": {},
   "outputs": [
    {
     "ename": "TypeError",
     "evalue": "tuple indices must be integers or slices, not str",
     "output_type": "error",
     "traceback": [
      "\u001b[1;31m---------------------------------------------------------------------------\u001b[0m",
      "\u001b[1;31mTypeError\u001b[0m                                 Traceback (most recent call last)",
      "Cell \u001b[1;32mIn[21], line 2\u001b[0m\n\u001b[0;32m      1\u001b[0m a \u001b[38;5;241m=\u001b[39m (\u001b[38;5;124m\"\u001b[39m\u001b[38;5;124m devansh\u001b[39m\u001b[38;5;124m\"\u001b[39m,\u001b[38;5;124m\"\u001b[39m\u001b[38;5;124mvansh\u001b[39m\u001b[38;5;124m\"\u001b[39m)\n\u001b[1;32m----> 2\u001b[0m \u001b[38;5;28mprint\u001b[39m(\u001b[38;5;124m\"\u001b[39m\u001b[38;5;124mhello \u001b[39m\u001b[38;5;132;01m{x}\u001b[39;00m\u001b[38;5;124m,my name is \u001b[39m\u001b[38;5;132;01m{y}\u001b[39;00m\u001b[38;5;124m\"\u001b[39m\u001b[38;5;241m.\u001b[39mformat_map(a))\n",
      "\u001b[1;31mTypeError\u001b[0m: tuple indices must be integers or slices, not str"
     ]
    }
   ],
   "source": [
    "a = (\" devansh\",\"vansh\")\n",
    "print(\"hello {x},my name is {y}\".format_map(a))\n"
   ]
  },
  {
   "cell_type": "code",
   "execution_count": 28,
   "id": "0c4aea0d-c566-4f6d-8905-8d7811c80258",
   "metadata": {},
   "outputs": [
    {
     "data": {
      "text/plain": [
       "3"
      ]
     },
     "execution_count": 28,
     "metadata": {},
     "output_type": "execute_result"
    }
   ],
   "source": [
    "string = \"define\"\n",
    "string.index('i')"
   ]
  },
  {
   "cell_type": "code",
   "execution_count": 29,
   "id": "31bfe7b5-3253-48f3-9fe7-886fb3f14355",
   "metadata": {},
   "outputs": [
    {
     "data": {
      "text/plain": [
       "True"
      ]
     },
     "execution_count": 29,
     "metadata": {},
     "output_type": "execute_result"
    }
   ],
   "source": [
    "string.isalnum()"
   ]
  },
  {
   "cell_type": "code",
   "execution_count": 30,
   "id": "0690752e-f054-4e91-8995-89b13fde8693",
   "metadata": {},
   "outputs": [
    {
     "data": {
      "text/plain": [
       "False"
      ]
     },
     "execution_count": 30,
     "metadata": {},
     "output_type": "execute_result"
    }
   ],
   "source": [
    "string = \"devansh123\"\n",
    "string.isalpha()\n"
   ]
  },
  {
   "cell_type": "code",
   "execution_count": 31,
   "id": "3f63f494-cd3f-4ec5-a08d-7ee8e2f7c6fb",
   "metadata": {},
   "outputs": [
    {
     "data": {
      "text/plain": [
       "True"
      ]
     },
     "execution_count": 31,
     "metadata": {},
     "output_type": "execute_result"
    }
   ],
   "source": [
    "string = \"java\""
   ]
  },
  {
   "cell_type": "code",
   "execution_count": 32,
   "id": "c0881cbe-723e-47af-b673-74e04bd69da4",
   "metadata": {},
   "outputs": [
    {
     "data": {
      "text/plain": [
       "True"
      ]
     },
     "execution_count": 32,
     "metadata": {},
     "output_type": "execute_result"
    }
   ],
   "source": [
    "string.isascii()"
   ]
  },
  {
   "cell_type": "code",
   "execution_count": 42,
   "id": "66965c41-4cec-4d48-83e5-920846d7b380",
   "metadata": {},
   "outputs": [
    {
     "data": {
      "text/plain": [
       "False"
      ]
     },
     "execution_count": 42,
     "metadata": {},
     "output_type": "execute_result"
    }
   ],
   "source": [
    "string = \"float\"\n",
    "string.isdecimal()"
   ]
  },
  {
   "cell_type": "code",
   "execution_count": 37,
   "id": "b5a98bba-f557-402a-a8a5-ea8bafc47bb4",
   "metadata": {},
   "outputs": [
    {
     "data": {
      "text/plain": [
       "False"
      ]
     },
     "execution_count": 37,
     "metadata": {},
     "output_type": "execute_result"
    }
   ],
   "source": [
    "string = \"d1234\"\n",
    "string.isdigit()"
   ]
  },
  {
   "cell_type": "code",
   "execution_count": 41,
   "id": "0652509f-7527-4d12-9e5d-cd88e8a38f1a",
   "metadata": {},
   "outputs": [
    {
     "data": {
      "text/plain": [
       "True"
      ]
     },
     "execution_count": 41,
     "metadata": {},
     "output_type": "execute_result"
    }
   ],
   "source": [
    "string = \"421455\"\n",
    "string.isdigit()"
   ]
  },
  {
   "cell_type": "code",
   "execution_count": 44,
   "id": "3e94dd24-7277-4776-b877-05eb87a7c122",
   "metadata": {},
   "outputs": [
    {
     "data": {
      "text/plain": [
       "False"
      ]
     },
     "execution_count": 44,
     "metadata": {},
     "output_type": "execute_result"
    }
   ],
   "source": [
    "string = \"hello \"\n",
    "string.isidentifier()\n"
   ]
  },
  {
   "cell_type": "code",
   "execution_count": 46,
   "id": "4c734efc-deac-4329-9b89-296ed1b5a115",
   "metadata": {},
   "outputs": [
    {
     "data": {
      "text/plain": [
       "True"
      ]
     },
     "execution_count": 46,
     "metadata": {},
     "output_type": "execute_result"
    }
   ],
   "source": [
    "string = \"ducat\"\n",
    "string.islower()"
   ]
  },
  {
   "cell_type": "code",
   "execution_count": 47,
   "id": "1767444a-5925-4348-912d-0e2ce6c802ec",
   "metadata": {},
   "outputs": [
    {
     "data": {
      "text/plain": [
       "False"
      ]
     },
     "execution_count": 47,
     "metadata": {},
     "output_type": "execute_result"
    }
   ],
   "source": [
    "string = \"Ducat\"\n",
    "string.islower()"
   ]
  },
  {
   "cell_type": "code",
   "execution_count": 54,
   "id": "791ea980-4034-4e1e-b3e8-01e69eab7346",
   "metadata": {},
   "outputs": [
    {
     "data": {
      "text/plain": [
       "True"
      ]
     },
     "execution_count": 54,
     "metadata": {},
     "output_type": "execute_result"
    }
   ],
   "source": [
    "string = '68'\n",
    "string.isnumeric()"
   ]
  },
  {
   "cell_type": "code",
   "execution_count": 51,
   "id": "6b4e0d4f-3991-4791-81a8-fd458a4ab2b9",
   "metadata": {},
   "outputs": [
    {
     "data": {
      "text/plain": [
       "True"
      ]
     },
     "execution_count": 51,
     "metadata": {},
     "output_type": "execute_result"
    }
   ],
   "source": [
    "string.isprintable()\n"
   ]
  },
  {
   "cell_type": "code",
   "execution_count": 59,
   "id": "edf5a250-2849-44f2-87e3-138f948488a6",
   "metadata": {},
   "outputs": [
    {
     "data": {
      "text/plain": [
       "False"
      ]
     },
     "execution_count": 59,
     "metadata": {},
     "output_type": "execute_result"
    }
   ],
   "source": [
    "string = \"123\"\n",
    "string.isspace()"
   ]
  },
  {
   "cell_type": "code",
   "execution_count": 62,
   "id": "19c01c61-fda5-44f9-8069-88a36a71dfab",
   "metadata": {},
   "outputs": [
    {
     "data": {
      "text/plain": [
       "False"
      ]
     },
     "execution_count": 62,
     "metadata": {},
     "output_type": "execute_result"
    }
   ],
   "source": [
    "\n",
    "string = \"DUCAT\"\n",
    "string.istitle()\n",
    "\n"
   ]
  },
  {
   "cell_type": "code",
   "execution_count": 64,
   "id": "c8a9182f-073c-4082-9b42-2cd021fd7509",
   "metadata": {},
   "outputs": [
    {
     "data": {
      "text/plain": [
       "False"
      ]
     },
     "execution_count": 64,
     "metadata": {},
     "output_type": "execute_result"
    }
   ],
   "source": [
    "string = \"noida\"\n",
    "string.isupper()"
   ]
  },
  {
   "cell_type": "code",
   "execution_count": 65,
   "id": "12bf49aa-ab37-4032-9113-b9f54c9251eb",
   "metadata": {},
   "outputs": [
    {
     "data": {
      "text/plain": [
       "True"
      ]
     },
     "execution_count": 65,
     "metadata": {},
     "output_type": "execute_result"
    }
   ],
   "source": [
    "string = \"NOIDA\"\n",
    "string.isupper()"
   ]
  },
  {
   "cell_type": "code",
   "execution_count": 68,
   "id": "5c3adac7-ada0-4b39-aa3b-50e560ad31d6",
   "metadata": {},
   "outputs": [
    {
     "name": "stdout",
     "output_type": "stream",
     "text": [
      "devansh @saini\n"
     ]
    }
   ],
   "source": [
    "name = ('devansh ',\"saini\")\n",
    "string = ('@'.join(name))\n",
    "print(string)"
   ]
  },
  {
   "cell_type": "code",
   "execution_count": 76,
   "id": "a8da186f-5f4c-455d-8991-62e1a9172314",
   "metadata": {},
   "outputs": [
    {
     "name": "stdout",
     "output_type": "stream",
     "text": [
      "python code          is easy \n"
     ]
    }
   ],
   "source": [
    "string = \"python code \"\n",
    "s = string.ljust((20) )\n",
    "print(s,'is easy ')"
   ]
  },
  {
   "cell_type": "code",
   "execution_count": 77,
   "id": "8c019bd8-8341-4d01-bc59-3784838bc5f3",
   "metadata": {},
   "outputs": [
    {
     "data": {
      "text/plain": [
       "'python code '"
      ]
     },
     "execution_count": 77,
     "metadata": {},
     "output_type": "execute_result"
    }
   ],
   "source": [
    "string.lower()"
   ]
  },
  {
   "cell_type": "code",
   "execution_count": 78,
   "id": "3b03f3c6-96fc-488f-b18b-1c9da64c7ce3",
   "metadata": {},
   "outputs": [
    {
     "data": {
      "text/plain": [
       "'devansh         saini             '"
      ]
     },
     "execution_count": 78,
     "metadata": {},
     "output_type": "execute_result"
    }
   ],
   "source": [
    "string = (\"         devansh         saini             \")\n",
    "string.lstrip()"
   ]
  },
  {
   "cell_type": "code",
   "execution_count": 79,
   "id": "f7fd8dfb-d22a-407b-b555-d7e9abf21db4",
   "metadata": {},
   "outputs": [
    {
     "ename": "TypeError",
     "evalue": "maketrans expected at least 1 argument, got 0",
     "output_type": "error",
     "traceback": [
      "\u001b[1;31m---------------------------------------------------------------------------\u001b[0m",
      "\u001b[1;31mTypeError\u001b[0m                                 Traceback (most recent call last)",
      "Cell \u001b[1;32mIn[79], line 1\u001b[0m\n\u001b[1;32m----> 1\u001b[0m string\u001b[38;5;241m.\u001b[39mmaketrans()\n",
      "\u001b[1;31mTypeError\u001b[0m: maketrans expected at least 1 argument, got 0"
     ]
    }
   ],
   "source": [
    "string.maketrans()"
   ]
  },
  {
   "cell_type": "code",
   "execution_count": 98,
   "id": "671cf0f8-df0a-40f2-98f2-134696e5c1fd",
   "metadata": {},
   "outputs": [
    {
     "data": {
      "text/plain": [
       "('', 'py', 'thon code')"
      ]
     },
     "execution_count": 98,
     "metadata": {},
     "output_type": "execute_result"
    }
   ],
   "source": [
    "string = (\"python code\")\n",
    "string.partition('py')\n"
   ]
  },
  {
   "cell_type": "code",
   "execution_count": 99,
   "id": "d303def6-b3b5-440d-80b0-1c35438a2dd9",
   "metadata": {},
   "outputs": [
    {
     "data": {
      "text/plain": [
       "'ython code'"
      ]
     },
     "execution_count": 99,
     "metadata": {},
     "output_type": "execute_result"
    }
   ],
   "source": [
    "string.removeprefix('p')"
   ]
  },
  {
   "cell_type": "code",
   "execution_count": 101,
   "id": "c406a1af-fd5f-4c1a-b077-044304d57066",
   "metadata": {},
   "outputs": [
    {
     "data": {
      "text/plain": [
       "'python co'"
      ]
     },
     "execution_count": 101,
     "metadata": {},
     "output_type": "execute_result"
    }
   ],
   "source": [
    "string.removesuffix('de')"
   ]
  },
  {
   "cell_type": "code",
   "execution_count": 102,
   "id": "0f392d82-57b0-45c9-9bd1-b18320fa287c",
   "metadata": {},
   "outputs": [
    {
     "data": {
      "text/plain": [
       "'python function'"
      ]
     },
     "execution_count": 102,
     "metadata": {},
     "output_type": "execute_result"
    }
   ],
   "source": [
    "string.replace('code','function')"
   ]
  },
  {
   "cell_type": "code",
   "execution_count": 103,
   "id": "d98f3e18-a1ea-479e-a8e8-76b8d4e92e7a",
   "metadata": {},
   "outputs": [
    {
     "data": {
      "text/plain": [
       "9"
      ]
     },
     "execution_count": 103,
     "metadata": {},
     "output_type": "execute_result"
    }
   ],
   "source": [
    "string.rfind('d')"
   ]
  },
  {
   "cell_type": "code",
   "execution_count": 120,
   "id": "213584c6-3893-4a73-a91d-a3ef8fcdcfb8",
   "metadata": {},
   "outputs": [
    {
     "data": {
      "text/plain": [
       "13"
      ]
     },
     "execution_count": 120,
     "metadata": {},
     "output_type": "execute_result"
    }
   ],
   "source": [
    "string = \"python is easier than c\"\n",
    "string.rindex('i')"
   ]
  },
  {
   "cell_type": "code",
   "execution_count": 121,
   "id": "adb8e6d1-97dd-4a3a-a9be-242de045ce8b",
   "metadata": {},
   "outputs": [
    {
     "data": {
      "text/plain": [
       "'      python is easier than c'"
      ]
     },
     "execution_count": 121,
     "metadata": {},
     "output_type": "execute_result"
    }
   ],
   "source": [
    "string.rjust(29)"
   ]
  },
  {
   "cell_type": "code",
   "execution_count": 122,
   "id": "89ffaa63-9cc0-4817-ba67-aafea3b4c5e2",
   "metadata": {},
   "outputs": [
    {
     "data": {
      "text/plain": [
       "('python is ', 'easier', ' than c')"
      ]
     },
     "execution_count": 122,
     "metadata": {},
     "output_type": "execute_result"
    }
   ],
   "source": [
    "string.rpartition('easier')"
   ]
  },
  {
   "cell_type": "code",
   "execution_count": 123,
   "id": "d9cb9bee-0eae-494e-b89f-3468244ef179",
   "metadata": {},
   "outputs": [
    {
     "data": {
      "text/plain": [
       "['py', 'hon is easier ', 'han c']"
      ]
     },
     "execution_count": 123,
     "metadata": {},
     "output_type": "execute_result"
    }
   ],
   "source": [
    "string.rsplit('t')"
   ]
  },
  {
   "cell_type": "code",
   "execution_count": 125,
   "id": "97274e91-9f0e-4881-9900-3d56bb948af5",
   "metadata": {},
   "outputs": [
    {
     "data": {
      "text/plain": [
       "'python is easier tha'"
      ]
     },
     "execution_count": 125,
     "metadata": {},
     "output_type": "execute_result"
    }
   ],
   "source": [
    "string.rstrip('n c')"
   ]
  },
  {
   "cell_type": "code",
   "execution_count": 126,
   "id": "a6f262ec-8901-4e7f-8457-441468a93277",
   "metadata": {},
   "outputs": [
    {
     "data": {
      "text/plain": [
       "['', ' is easier than c']"
      ]
     },
     "execution_count": 126,
     "metadata": {},
     "output_type": "execute_result"
    }
   ],
   "source": [
    "string.split('python')"
   ]
  },
  {
   "cell_type": "code",
   "execution_count": 135,
   "id": "17fa85fa-2da3-40d4-ba3c-856c1c9e6c1c",
   "metadata": {},
   "outputs": [
    {
     "data": {
      "text/plain": [
       "True"
      ]
     },
     "execution_count": 135,
     "metadata": {},
     "output_type": "execute_result"
    }
   ],
   "source": [
    "string.startswith(\"p\")"
   ]
  },
  {
   "cell_type": "code",
   "execution_count": 138,
   "id": "752adb75-3f58-4430-bdd5-ad89c66fef00",
   "metadata": {},
   "outputs": [
    {
     "data": {
      "text/plain": [
       "\"let's    code\""
      ]
     },
     "execution_count": 138,
     "metadata": {},
     "output_type": "execute_result"
    }
   ],
   "source": [
    "string = \"  let's    code             \"\n",
    "string.strip()\n"
   ]
  },
  {
   "cell_type": "code",
   "execution_count": 139,
   "id": "204b0328-a1c0-4513-be07-6458941a0418",
   "metadata": {},
   "outputs": [
    {
     "data": {
      "text/plain": [
       "'dEVANSH saini'"
      ]
     },
     "execution_count": 139,
     "metadata": {},
     "output_type": "execute_result"
    }
   ],
   "source": [
    "string = \"Devansh SAINI\"\n",
    "string.swapcase()\n"
   ]
  },
  {
   "cell_type": "code",
   "execution_count": 140,
   "id": "e1528d17-3129-4d98-8386-a5ad56a484de",
   "metadata": {},
   "outputs": [
    {
     "data": {
      "text/plain": [
       "'Python '"
      ]
     },
     "execution_count": 140,
     "metadata": {},
     "output_type": "execute_result"
    }
   ],
   "source": [
    "string = \"python \"\n",
    "string.title()\n"
   ]
  },
  {
   "cell_type": "code",
   "execution_count": 142,
   "id": "163d0636-0949-4319-ae6c-7ed28e02921c",
   "metadata": {},
   "outputs": [
    {
     "data": {
      "text/plain": [
       "'PYTHON '"
      ]
     },
     "execution_count": 142,
     "metadata": {},
     "output_type": "execute_result"
    }
   ],
   "source": [
    "string.upper()"
   ]
  },
  {
   "cell_type": "code",
   "execution_count": 143,
   "id": "bf7af9cc-07c7-4ec6-ad0e-f6c5f250d0dc",
   "metadata": {},
   "outputs": [
    {
     "ename": "TypeError",
     "evalue": "str.zfill() takes exactly one argument (0 given)",
     "output_type": "error",
     "traceback": [
      "\u001b[1;31m---------------------------------------------------------------------------\u001b[0m",
      "\u001b[1;31mTypeError\u001b[0m                                 Traceback (most recent call last)",
      "Cell \u001b[1;32mIn[143], line 1\u001b[0m\n\u001b[1;32m----> 1\u001b[0m string\u001b[38;5;241m.\u001b[39mzfill()\n",
      "\u001b[1;31mTypeError\u001b[0m: str.zfill() takes exactly one argument (0 given)"
     ]
    }
   ],
   "source": []
  },
  {
   "cell_type": "code",
   "execution_count": null,
   "id": "fa2fd5b3-c9c1-49f5-81a5-2106413ab93f",
   "metadata": {},
   "outputs": [],
   "source": []
  }
 ],
 "metadata": {
  "kernelspec": {
   "display_name": "Python 3 (ipykernel)",
   "language": "python",
   "name": "python3"
  },
  "language_info": {
   "codemirror_mode": {
    "name": "ipython",
    "version": 3
   },
   "file_extension": ".py",
   "mimetype": "text/x-python",
   "name": "python",
   "nbconvert_exporter": "python",
   "pygments_lexer": "ipython3",
   "version": "3.11.7"
  }
 },
 "nbformat": 4,
 "nbformat_minor": 5
}
