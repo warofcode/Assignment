{
 "cells": [
  {
   "cell_type": "markdown",
   "id": "ecee4ea7-4b55-4de5-854a-e65a41b1c413",
   "metadata": {},
   "source": [
    "Q1 .What exactly is []?"
   ]
  },
  {
   "cell_type": "markdown",
   "id": "2b040084-06af-4819-845e-d484f0d5b905",
   "metadata": {},
   "source": [
    "ans 1 . this represents the empty list ."
   ]
  },
  {
   "cell_type": "code",
   "execution_count": null,
   "id": "f53b9741-3d9b-4462-8254-cf847b5eb00c",
   "metadata": {},
   "outputs": [],
   "source": []
  },
  {
   "cell_type": "markdown",
   "id": "d143ee06-baa7-4497-8bb8-ade7ed335755",
   "metadata": {},
   "source": [
    "Q2 . In a list of values stored in a variable called spam, how would you assign the value &#39;hello&#39; as the\n",
    "third value? (Assume [2, 4, 6, 8, 10] are in spam.)"
   ]
  },
  {
   "cell_type": "code",
   "execution_count": 5,
   "id": "1a76faa5-655b-4116-9531-c07b85caebae",
   "metadata": {},
   "outputs": [
    {
     "data": {
      "text/plain": [
       "[2, 4, 'hello', 8, 10]"
      ]
     },
     "execution_count": 5,
     "metadata": {},
     "output_type": "execute_result"
    }
   ],
   "source": [
    "spam = [2,4,6,8,10]\n",
    "spam[2] = \"hello\"\n",
    "\n",
    "\n"
   ]
  },
  {
   "cell_type": "code",
   "execution_count": null,
   "id": "e4753392-1b47-48ca-944d-6771ad227017",
   "metadata": {},
   "outputs": [],
   "source": []
  },
  {
   "cell_type": "markdown",
   "id": "ec337570-6ce1-4e1c-b089-cf2a8da11d62",
   "metadata": {},
   "source": [
    "Q3 . What is the value of spam[int(int('3' * 2) / 11)]?"
   ]
  },
  {
   "cell_type": "markdown",
   "id": "67d484d4-eecf-4f2b-b742-aa1d1f003b89",
   "metadata": {},
   "source": [
    "ans 3 -->>   3"
   ]
  },
  {
   "cell_type": "code",
   "execution_count": null,
   "id": "35fa9575-f7ca-4d7b-9058-61e911a9c5da",
   "metadata": {},
   "outputs": [],
   "source": []
  },
  {
   "cell_type": "markdown",
   "id": "523bc25e-a2a9-4b02-ad9a-a2fb08865731",
   "metadata": {},
   "source": [
    "Que 4. What is the value of spam[-1]?"
   ]
  },
  {
   "cell_type": "code",
   "execution_count": 5,
   "id": "514340fd-adbc-4a58-8492-d5c059901e3f",
   "metadata": {},
   "outputs": [
    {
     "data": {
      "text/plain": [
       "8"
      ]
     },
     "execution_count": 5,
     "metadata": {},
     "output_type": "execute_result"
    }
   ],
   "source": [
    "spam = [1,3,5,3,2,5,3,5,6,9,8,1,8]\n",
    "spam[-1]\n"
   ]
  },
  {
   "cell_type": "code",
   "execution_count": null,
   "id": "fb6d6183-e893-4178-b4cc-126034647f36",
   "metadata": {},
   "outputs": [],
   "source": []
  },
  {
   "cell_type": "markdown",
   "id": "ef8af679-9e08-4ed6-81f7-1c9a255aa65d",
   "metadata": {},
   "source": [
    "Que 5. What is the value of spam[:2]?"
   ]
  },
  {
   "cell_type": "code",
   "execution_count": 8,
   "id": "62b0733d-306c-4a2a-97ec-645010428b10",
   "metadata": {},
   "outputs": [
    {
     "data": {
      "text/plain": [
       "[3.14, 'cat']"
      ]
     },
     "execution_count": 8,
     "metadata": {},
     "output_type": "execute_result"
    }
   ],
   "source": [
    "# Ans 5.\n",
    "spam = [3.14 , 'cat',11,'cat']\n",
    "spam[:2]"
   ]
  },
  {
   "cell_type": "markdown",
   "id": "a32dd5fa-b45d-401b-a76e-9e1669d43789",
   "metadata": {},
   "source": []
  },
  {
   "cell_type": "markdown",
   "id": "ef0d7ba0-c38e-4c7c-bc99-e0cb54daec02",
   "metadata": {},
   "source": [
    "Que 6. What is the value of bacon.index('cat')?"
   ]
  },
  {
   "cell_type": "code",
   "execution_count": 11,
   "id": "071fe8b6-484a-47c9-9d2a-f9a6b9106d61",
   "metadata": {},
   "outputs": [
    {
     "data": {
      "text/plain": [
       "1"
      ]
     },
     "execution_count": 11,
     "metadata": {},
     "output_type": "execute_result"
    }
   ],
   "source": [
    "# ans 6. \n",
    "bacon = [3.14 , 'cat',11,'cat']\n",
    "bacon.index('cat')"
   ]
  },
  {
   "cell_type": "code",
   "execution_count": null,
   "id": "4a16c9da-347c-4621-8ae7-d4c91f80fa66",
   "metadata": {},
   "outputs": [],
   "source": []
  },
  {
   "cell_type": "markdown",
   "id": "4b497891-f7ba-4a2e-8293-3be03afcd59c",
   "metadata": {},
   "source": [
    "Q7 . How does bacon.append(99) change the look of the list value in bacon?"
   ]
  },
  {
   "cell_type": "code",
   "execution_count": 16,
   "id": "44a41ede-1065-4092-aecb-980602605a74",
   "metadata": {},
   "outputs": [],
   "source": [
    "# ans 7 . \n",
    "bacon.append(99)"
   ]
  },
  {
   "cell_type": "code",
   "execution_count": 15,
   "id": "97c23bd6-62ac-43df-bd09-2569b3cb4b54",
   "metadata": {},
   "outputs": [
    {
     "name": "stdout",
     "output_type": "stream",
     "text": [
      "[3.14, 'cat', 11, 'cat', 99, 99]\n"
     ]
    }
   ],
   "source": [
    "print(bacon)"
   ]
  },
  {
   "cell_type": "code",
   "execution_count": null,
   "id": "7129a9db-7ff2-4793-9973-d9609905a982",
   "metadata": {},
   "outputs": [],
   "source": []
  },
  {
   "cell_type": "markdown",
   "id": "981bd3e1-a673-4bc4-9cdb-b7e051dd1b95",
   "metadata": {},
   "source": [
    " Q8. How does bacon.remove(&#39;cat&#39;) change the look of the list in bacon?"
   ]
  },
  {
   "cell_type": "code",
   "execution_count": 19,
   "id": "89ebf3d9-e752-4365-b5e8-a2080be90056",
   "metadata": {},
   "outputs": [
    {
     "data": {
      "text/plain": [
       "[3.14, 11, 'cat', 99, 99, 99]"
      ]
     },
     "execution_count": 19,
     "metadata": {},
     "output_type": "execute_result"
    }
   ],
   "source": [
    "# ans 8. \n",
    "bacon.remove('cat')\n",
    "bacon"
   ]
  },
  {
   "cell_type": "code",
   "execution_count": null,
   "id": "4981dadd-1e14-4290-ae67-4d5409a91f27",
   "metadata": {},
   "outputs": [],
   "source": []
  },
  {
   "cell_type": "markdown",
   "id": "87e2aad5-5b97-400c-a535-5f2913e43bcc",
   "metadata": {},
   "source": [
    "Q9 . What are the list concatenation and list replication operators?"
   ]
  },
  {
   "cell_type": "markdown",
   "id": "9b6b80cb-a674-4c04-af3c-57d7b4880e96",
   "metadata": {},
   "source": [
    "ans 9. List Concatenation Operator (+):\n",
    "\n",
    "List Replication Operator (*):"
   ]
  },
  {
   "cell_type": "code",
   "execution_count": null,
   "id": "8c24465d-8e7c-42c4-8bd7-9113defe2932",
   "metadata": {},
   "outputs": [],
   "source": []
  },
  {
   "cell_type": "markdown",
   "id": "01aa981e-f297-4661-9185-a38bd2cad897",
   "metadata": {},
   "source": [
    "Q10 . What is difference between the list methods append() and insert()?"
   ]
  },
  {
   "cell_type": "markdown",
   "id": "0d59fd08-ced8-48d1-aac0-5f5f87077d76",
   "metadata": {},
   "source": [
    "ans 10.  append() - apeend() is used to add things in the last of the list .\n",
    "\n",
    "insert() - insert(index,element) it is used to add element in the list at particular index. "
   ]
  },
  {
   "cell_type": "code",
   "execution_count": null,
   "id": "ee96f362-0f89-448e-935e-22d167e1b015",
   "metadata": {},
   "outputs": [],
   "source": []
  },
  {
   "cell_type": "markdown",
   "id": "5d4d8bf8-b85b-47f8-a1b1-5e757d1bd45f",
   "metadata": {},
   "source": [
    "Q11 . What are the two methods for removing items from a list?"
   ]
  },
  {
   "cell_type": "markdown",
   "id": "153f88b6-f3b2-4428-9fa0-3d552da90792",
   "metadata": {},
   "source": [
    "ans 11. Two methods to remove items from the list - \n",
    "\n",
    "1. remove() - list.remove(value)\n",
    "\n",
    "2. pop() - list.pop(index)"
   ]
  },
  {
   "cell_type": "code",
   "execution_count": null,
   "id": "a39f23f8-f2b0-492b-9dc6-acb54d91074a",
   "metadata": {},
   "outputs": [],
   "source": []
  },
  {
   "cell_type": "markdown",
   "id": "e058a975-f251-4541-9426-eb28ff8910f6",
   "metadata": {},
   "source": [
    "Q12 . Describe how list values and string values are identical."
   ]
  },
  {
   "cell_type": "markdown",
   "id": "9a461dec-e303-4ed6-8f4c-c6d64211d554",
   "metadata": {},
   "source": [
    "ans 12. common thing in both we can do . \n",
    "\n",
    "1. indexing \n",
    "\n",
    "2. slicing\n",
    "\n",
    "3. length - len()\n",
    "\n",
    "4. iteration - both list and string can be iterrable using loop ."
   ]
  },
  {
   "cell_type": "code",
   "execution_count": null,
   "id": "4ec4d51a-5d28-481c-95f6-055ce210648e",
   "metadata": {},
   "outputs": [],
   "source": []
  },
  {
   "cell_type": "markdown",
   "id": "7e620045-7c60-4670-b848-2cbb751aa3a9",
   "metadata": {},
   "source": [
    "Q13 . What's the difference between tuples and lists?"
   ]
  },
  {
   "cell_type": "markdown",
   "id": "73e14be4-f40d-415c-a4d5-3bb113ffdea1",
   "metadata": {},
   "source": [
    "ans 13 . \n",
    "\n",
    "list - \n",
    "    1. mutable \n",
    "    2. syntax - ['a',2,'b']\n",
    "    3. usage - lists are used for the collection of items that may need to be modified .\n",
    "\n",
    "\n",
    "tuple - \n",
    "    1. unmutable \n",
    "    2. syntax - ('a','d',4,'g')\n",
    "    3. usage - tuples are used for the collection of items that should not be modified , such as sets.\n",
    "    "
   ]
  },
  {
   "cell_type": "code",
   "execution_count": null,
   "id": "37d2fa3c-2572-4d4b-be10-fadd1f74913c",
   "metadata": {},
   "outputs": [],
   "source": []
  },
  {
   "cell_type": "markdown",
   "id": "ca9f6d94-7d95-4a60-ad53-b6965770e138",
   "metadata": {},
   "source": [
    "Q14. How do you type a tuple value that only contains the integer 42?"
   ]
  },
  {
   "cell_type": "code",
   "execution_count": 5,
   "id": "23830664-35b7-4d1e-be39-4309f4d14790",
   "metadata": {},
   "outputs": [
    {
     "data": {
      "text/plain": [
       "tuple"
      ]
     },
     "execution_count": 5,
     "metadata": {},
     "output_type": "execute_result"
    }
   ],
   "source": [
    "# ans 14.\n",
    "my_tuple = (42,)\n",
    "type(my_tuple)"
   ]
  },
  {
   "cell_type": "code",
   "execution_count": null,
   "id": "003e4365-992f-4c44-91a5-2d876d9cfe71",
   "metadata": {},
   "outputs": [],
   "source": []
  },
  {
   "cell_type": "markdown",
   "id": "0845f243-57e7-432a-8694-f8603fd5baf4",
   "metadata": {},
   "source": [
    "Q15 . How do you get a list value's tuple form? How do you get a tuple value's list form?"
   ]
  },
  {
   "cell_type": "markdown",
   "id": "a69ea5e4-b05e-46e6-a784-139a37f15fad",
   "metadata": {},
   "source": [
    "ans 15 . to get list value :\n",
    "\n",
    "          list1 = list(my_tuple)\n",
    "\n",
    "to get tuple value : \n",
    "\n",
    "tuple1 = tuple(my_list)"
   ]
  },
  {
   "cell_type": "code",
   "execution_count": null,
   "id": "e809b058-8930-4b91-8f66-adc82b577820",
   "metadata": {},
   "outputs": [],
   "source": []
  },
  {
   "cell_type": "markdown",
   "id": "eeabeff6-bac8-4bbe-9a87-b382c58265de",
   "metadata": {},
   "source": [
    "Q16 . Variables that \"contain\" list values are not necessarily lists themselves. Instead, what do they\n",
    "contain?"
   ]
  },
  {
   "cell_type": "code",
   "execution_count": 11,
   "id": "537ddcfa-2c25-42a2-b1e7-09c47faae357",
   "metadata": {},
   "outputs": [
    {
     "name": "stdout",
     "output_type": "stream",
     "text": [
      "[1, 2, 3, 4, 5]\n",
      "[1, 2, 3, 4, 5]\n"
     ]
    }
   ],
   "source": [
    "# ans 16. \n",
    "\n",
    "first_list = [1,2,3,4]\n",
    "\n",
    "second_list = first_list\n",
    "\n",
    "second_list.append(5)\n",
    "\n",
    "print(first_list)\n",
    "print(second_list)"
   ]
  },
  {
   "cell_type": "code",
   "execution_count": null,
   "id": "5b66a3dc-c433-4564-9b75-505cf0a3561a",
   "metadata": {},
   "outputs": [],
   "source": []
  },
  {
   "cell_type": "markdown",
   "id": "5d76f421-d81a-4ea6-99e5-5220ab35361b",
   "metadata": {},
   "source": [
    "Q17 . How do you distinguish between copy.copy() and copy.deepcopy()?"
   ]
  },
  {
   "cell_type": "markdown",
   "id": "d8ac6ffc-71cf-402f-974c-1b26f5666079",
   "metadata": {},
   "source": [
    "ans 17. copy.copy() - is used for making shallow copy . \n",
    "\n",
    "copy.deepcopy() - is used for making deep copy of the object."
   ]
  },
  {
   "cell_type": "code",
   "execution_count": null,
   "id": "0c34bb85-a7c6-47f3-a1a9-aa6fcff37c0c",
   "metadata": {},
   "outputs": [],
   "source": []
  }
 ],
 "metadata": {
  "kernelspec": {
   "display_name": "Python 3 (ipykernel)",
   "language": "python",
   "name": "python3"
  },
  "language_info": {
   "codemirror_mode": {
    "name": "ipython",
    "version": 3
   },
   "file_extension": ".py",
   "mimetype": "text/x-python",
   "name": "python",
   "nbconvert_exporter": "python",
   "pygments_lexer": "ipython3",
   "version": "3.11.7"
  }
 },
 "nbformat": 4,
 "nbformat_minor": 5
}
